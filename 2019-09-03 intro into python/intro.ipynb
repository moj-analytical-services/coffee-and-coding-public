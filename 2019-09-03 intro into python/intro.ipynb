{
 "cells": [
  {
   "cell_type": "markdown",
   "metadata": {},
   "source": [
    "# Intro into Python\n",
    "\n",
    "This folder covers a basic introduction into python. Note that this is geared towards those who are using jupyter-lab on the Analytical Platform. So if you are not doing this on the platform then you might need to setup some things that are not set-up for yourself. (I'm using python 3.7)."
   ]
  },
  {
   "cell_type": "markdown",
   "metadata": {},
   "source": [
    "## Topics\n",
    "\n",
    "1. Juypter Lab\n",
    "2. Variables, Operators and Data types\n",
    "3. Dictionaries\n",
    "4. Lists\n",
    "5. Strings 2.0\n",
    "6. Functions\n",
    "7. Importing\n",
    "8. Reading and writing CSVs and JSONs\n",
    "\n",
    "# 1. Jupyter Lab\n",
    "\n",
    "> JupyterLab enables you to work with documents and activities such as Jupyter notebooks, text editors, terminals, and custom components in a flexible, integrated, and extensible manner.\n",
    "\n",
    "The above is a quote from the JupyterLab website. First I am going to just demo what you can do with jupyter. For those wanting a refresher on these basics or didn't attend the lunch and code then click [here](https://jupyterlab.readthedocs.io/en/stable/user/interface.html)\n",
    "\n",
    "## 1.1 Jupyter Lab Run Through\n",
    "\n",
    "_(These are my notes)_\n",
    "\n",
    "* Create file\n",
    "* Dual screen a markdown file\n",
    "* Create a notebook\n",
    "  * Whats a cell?\n",
    "  * Explain stuff left to right?\n",
    "  * Cell format _(markdown, code, raw)_\n",
    "  * What's a kernel (talk about restarting it!)"
   ]
  },
  {
   "cell_type": "markdown",
   "metadata": {},
   "source": [
    "## Question: When and why to use Python?\n",
    "\n",
    "Whenever, it's frickin' great and very versitle... see the latest stackoverflow survey"
   ]
  },
  {
   "cell_type": "code",
   "execution_count": 30,
   "metadata": {},
   "outputs": [
    {
     "data": {
      "text/html": [
       "\n",
       "        <iframe\n",
       "            width=\"1000\"\n",
       "            height=\"600\"\n",
       "            src=\"https://insights.stackoverflow.com/survey/2019#technology-_-most-loved-dreaded-and-wanted-languages\"\n",
       "            frameborder=\"0\"\n",
       "            allowfullscreen\n",
       "        ></iframe>\n",
       "        "
      ],
      "text/plain": [
       "<IPython.lib.display.IFrame at 0x7ffa4c481eb8>"
      ]
     },
     "execution_count": 30,
     "metadata": {},
     "output_type": "execute_result"
    }
   ],
   "source": [
    "from IPython.display import Markdown, IFrame\n",
    "\n",
    "IFrame(\"https://insights.stackoverflow.com/survey/2019#technology-_-most-loved-dreaded-and-wanted-languages\", 1000, 600)"
   ]
  },
  {
   "cell_type": "code",
   "execution_count": null,
   "metadata": {},
   "outputs": [],
   "source": []
  },
  {
   "cell_type": "code",
   "execution_count": null,
   "metadata": {},
   "outputs": [],
   "source": []
  },
  {
   "cell_type": "markdown",
   "metadata": {},
   "source": [
    "## 2. Variables, Operators and Data Types\n",
    "\n",
    "Let's jump in to declaring/assigning some variables\n",
    "\n",
    "### 2.1 Assigning\n",
    "_(we use an equals sign (`=`) for assignment because why wouldn't you...)_\n"
   ]
  },
  {
   "cell_type": "code",
   "execution_count": 2,
   "metadata": {},
   "outputs": [
    {
     "name": "stdout",
     "output_type": "stream",
     "text": [
      "1\n"
     ]
    }
   ],
   "source": [
    "# We can write code comments like this (just add a # at the start). Newline comment just starts with a #.\n",
    "# Let's do some assigning\n",
    "a = 1\n",
    "print(a)"
   ]
  },
  {
   "cell_type": "code",
   "execution_count": 3,
   "metadata": {},
   "outputs": [
    {
     "data": {
      "text/plain": [
       "'this is some text'"
      ]
     },
     "execution_count": 3,
     "metadata": {},
     "output_type": "execute_result"
    }
   ],
   "source": [
    "b = \"this is some text\" # Comments can also go after code \n",
    "b"
   ]
  },
  {
   "cell_type": "code",
   "execution_count": 4,
   "metadata": {},
   "outputs": [
    {
     "data": {
      "text/plain": [
       "\"If you don't assign something at the end of a cell it prints out at the bottom - it isn't assigned to anything...\""
      ]
     },
     "execution_count": 4,
     "metadata": {},
     "output_type": "execute_result"
    }
   ],
   "source": [
    "\"If you don't assign something at the end of a cell it prints out at the bottom - it isn't assigned to anything...\""
   ]
  },
  {
   "cell_type": "markdown",
   "metadata": {},
   "source": [
    "### 2.2 Basic operators\n",
    "\n",
    "Things like addition, substraction, division, etc. All those things analysts love."
   ]
  },
  {
   "cell_type": "code",
   "execution_count": 5,
   "metadata": {},
   "outputs": [
    {
     "name": "stdout",
     "output_type": "stream",
     "text": [
      "2\n"
     ]
    }
   ],
   "source": [
    "a = a+1\n",
    "print(a)"
   ]
  },
  {
   "cell_type": "code",
   "execution_count": 6,
   "metadata": {},
   "outputs": [
    {
     "name": "stdout",
     "output_type": "stream",
     "text": [
      "3\n"
     ]
    }
   ],
   "source": [
    "# You could also do this - which is equivalent to the above\n",
    "a += 1\n",
    "print(a)"
   ]
  },
  {
   "cell_type": "code",
   "execution_count": 7,
   "metadata": {},
   "outputs": [
    {
     "data": {
      "text/plain": [
       "2"
      ]
     },
     "execution_count": 7,
     "metadata": {},
     "output_type": "execute_result"
    }
   ],
   "source": [
    "# Substractions (note that a is unchanged as we haven't assigned anything)\n",
    "a - 1"
   ]
  },
  {
   "cell_type": "code",
   "execution_count": 8,
   "metadata": {},
   "outputs": [
    {
     "data": {
      "text/plain": [
       "6"
      ]
     },
     "execution_count": 8,
     "metadata": {},
     "output_type": "execute_result"
    }
   ],
   "source": [
    "# Multiplication \n",
    "a*2"
   ]
  },
  {
   "cell_type": "code",
   "execution_count": 9,
   "metadata": {},
   "outputs": [
    {
     "data": {
      "text/plain": [
       "1.5"
      ]
     },
     "execution_count": 9,
     "metadata": {},
     "output_type": "execute_result"
    }
   ],
   "source": [
    "# Division\n",
    "a / 2"
   ]
  },
  {
   "cell_type": "code",
   "execution_count": 11,
   "metadata": {},
   "outputs": [
    {
     "data": {
      "text/plain": [
       "1"
      ]
     },
     "execution_count": 11,
     "metadata": {},
     "output_type": "execute_result"
    }
   ],
   "source": [
    "# Floor Division\n",
    "a // 2"
   ]
  },
  {
   "cell_type": "code",
   "execution_count": 12,
   "metadata": {},
   "outputs": [
    {
     "data": {
      "text/plain": [
       "9"
      ]
     },
     "execution_count": 12,
     "metadata": {},
     "output_type": "execute_result"
    }
   ],
   "source": [
    "# Powers\n",
    "a**2"
   ]
  },
  {
   "cell_type": "code",
   "execution_count": 13,
   "metadata": {},
   "outputs": [
    {
     "data": {
      "text/plain": [
       "1"
      ]
     },
     "execution_count": 13,
     "metadata": {},
     "output_type": "execute_result"
    }
   ],
   "source": [
    "# Mod\n",
    "a % 2"
   ]
  },
  {
   "cell_type": "markdown",
   "metadata": {},
   "source": [
    "### 2.3 Logical Operators\n",
    "\n",
    "First we should probably define a boolean. A boolean can only two states 1 or 0. To define something as a boolean rather than just an integer that is 1 or 0... "
   ]
  },
  {
   "cell_type": "code",
   "execution_count": 14,
   "metadata": {},
   "outputs": [
    {
     "name": "stdout",
     "output_type": "stream",
     "text": [
      "True\n"
     ]
    }
   ],
   "source": [
    "my_bool = True # case sensitive\n",
    "print(my_bool)"
   ]
  },
  {
   "cell_type": "code",
   "execution_count": 15,
   "metadata": {},
   "outputs": [
    {
     "name": "stdout",
     "output_type": "stream",
     "text": [
      "True\n"
     ]
    }
   ],
   "source": [
    "# Can also do\n",
    "my_bool = bool(1) # this coverts a boolean into an integer\n",
    "print(my_bool)"
   ]
  },
  {
   "cell_type": "code",
   "execution_count": 16,
   "metadata": {},
   "outputs": [
    {
     "name": "stdout",
     "output_type": "stream",
     "text": [
      "False\n",
      "True\n"
     ]
    }
   ],
   "source": [
    "# Using a not\n",
    "print(not my_bool)\n",
    "print(not not my_bool)"
   ]
  },
  {
   "cell_type": "code",
   "execution_count": 17,
   "metadata": {},
   "outputs": [
    {
     "name": "stdout",
     "output_type": "stream",
     "text": [
      "False\n",
      "True\n"
     ]
    }
   ],
   "source": [
    "# and / or\n",
    "t1 = True\n",
    "t2 = False\n",
    "print(t1 and t2)\n",
    "print(t1 or t2)"
   ]
  },
  {
   "cell_type": "code",
   "execution_count": 75,
   "metadata": {},
   "outputs": [
    {
     "name": "stdout",
     "output_type": "stream",
     "text": [
      "False\n",
      "True\n"
     ]
    }
   ],
   "source": [
    "# can also do (but reads worse imo - just use the words)\n",
    "print(t1 & t2)\n",
    "print(t1 | t2)"
   ]
  },
  {
   "cell_type": "markdown",
   "metadata": {},
   "source": [
    "Let's now look at inequalities..."
   ]
  },
  {
   "cell_type": "code",
   "execution_count": 76,
   "metadata": {},
   "outputs": [
    {
     "data": {
      "text/plain": [
       "True"
      ]
     },
     "execution_count": 76,
     "metadata": {},
     "output_type": "execute_result"
    }
   ],
   "source": [
    "# Less than\n",
    "1 < 3"
   ]
  },
  {
   "cell_type": "code",
   "execution_count": 77,
   "metadata": {},
   "outputs": [
    {
     "data": {
      "text/plain": [
       "True"
      ]
     },
     "execution_count": 77,
     "metadata": {},
     "output_type": "execute_result"
    }
   ],
   "source": [
    "# Greater and equal to\n",
    "3 >= 3 "
   ]
  },
  {
   "cell_type": "code",
   "execution_count": 78,
   "metadata": {},
   "outputs": [
    {
     "data": {
      "text/plain": [
       "True"
      ]
     },
     "execution_count": 78,
     "metadata": {},
     "output_type": "execute_result"
    }
   ],
   "source": [
    "# Equal to\n",
    "3 == 3"
   ]
  },
  {
   "cell_type": "code",
   "execution_count": 81,
   "metadata": {},
   "outputs": [
    {
     "data": {
      "text/plain": [
       "False"
      ]
     },
     "execution_count": 81,
     "metadata": {},
     "output_type": "execute_result"
    }
   ],
   "source": [
    "# Not equal to\n",
    "3 != 3"
   ]
  },
  {
   "cell_type": "code",
   "execution_count": 82,
   "metadata": {},
   "outputs": [
    {
     "data": {
      "text/plain": [
       "True"
      ]
     },
     "execution_count": 82,
     "metadata": {},
     "output_type": "execute_result"
    }
   ],
   "source": [
    "# Can do put this together like...\n",
    "3 < 2 or 7 >= 6"
   ]
  },
  {
   "cell_type": "markdown",
   "metadata": {},
   "source": [
    "More coverage about this etc can be found here - https://data-flair.training/blogs/python-operator/"
   ]
  },
  {
   "cell_type": "markdown",
   "metadata": {},
   "source": [
    "### 2.4 Data Types\n",
    "\n",
    "(The basic ones at least)"
   ]
  },
  {
   "cell_type": "code",
   "execution_count": 83,
   "metadata": {},
   "outputs": [
    {
     "name": "stdout",
     "output_type": "stream",
     "text": [
      "1 2 -3\n",
      "0.1 1.2 -1.3\n",
      "These are some strings\n"
     ]
    }
   ],
   "source": [
    "# integers\n",
    "print(1, 2, -3) # oh yeah, use commas to print multiple things in line\n",
    "\n",
    "# float\n",
    "print(0.1, 1.2, -1.3)\n",
    "\n",
    "# strings\n",
    "# note how ''or \"\" don't matter both declare strings. Ideally always use \"\" as that is \n",
    "print('These', \"are some\", \"strings\") "
   ]
  },
  {
   "cell_type": "markdown",
   "metadata": {},
   "source": [
    "You can convert types (depending on the value) between one another. For example:"
   ]
  },
  {
   "cell_type": "code",
   "execution_count": 84,
   "metadata": {},
   "outputs": [
    {
     "data": {
      "text/plain": [
       "1"
      ]
     },
     "execution_count": 84,
     "metadata": {},
     "output_type": "execute_result"
    }
   ],
   "source": [
    "# You can do this\n",
    "int(1.6)"
   ]
  },
  {
   "cell_type": "code",
   "execution_count": 85,
   "metadata": {},
   "outputs": [
    {
     "name": "stdout",
     "output_type": "stream",
     "text": [
      "1.6 1.0\n"
     ]
    }
   ],
   "source": [
    "# You can do these\n",
    "print(float(\"1.6\"), float(1))"
   ]
  },
  {
   "cell_type": "code",
   "execution_count": 86,
   "metadata": {},
   "outputs": [
    {
     "data": {
      "text/plain": [
       "'1.6'"
      ]
     },
     "execution_count": 86,
     "metadata": {},
     "output_type": "execute_result"
    }
   ],
   "source": [
    "# and this\n",
    "str(1.6)"
   ]
  },
  {
   "cell_type": "code",
   "execution_count": 87,
   "metadata": {},
   "outputs": [
    {
     "data": {
      "text/plain": [
       "1.0"
      ]
     },
     "execution_count": 87,
     "metadata": {},
     "output_type": "execute_result"
    }
   ],
   "source": [
    "float(1)"
   ]
  },
  {
   "cell_type": "code",
   "execution_count": 88,
   "metadata": {},
   "outputs": [
    {
     "ename": "ValueError",
     "evalue": "invalid literal for int() with base 10: '1.6'",
     "output_type": "error",
     "traceback": [
      "\u001b[0;31m---------------------------------------------------------------------------\u001b[0m",
      "\u001b[0;31mValueError\u001b[0m                                Traceback (most recent call last)",
      "\u001b[0;32m<ipython-input-88-a6c7f9eed672>\u001b[0m in \u001b[0;36m<module>\u001b[0;34m\u001b[0m\n\u001b[1;32m      1\u001b[0m \u001b[0;31m# But ya can't do this\u001b[0m\u001b[0;34m\u001b[0m\u001b[0;34m\u001b[0m\u001b[0;34m\u001b[0m\u001b[0m\n\u001b[0;32m----> 2\u001b[0;31m \u001b[0mint\u001b[0m\u001b[0;34m(\u001b[0m\u001b[0;34m\"1.6\"\u001b[0m\u001b[0;34m)\u001b[0m\u001b[0;34m\u001b[0m\u001b[0;34m\u001b[0m\u001b[0m\n\u001b[0m",
      "\u001b[0;31mValueError\u001b[0m: invalid literal for int() with base 10: '1.6'"
     ]
    }
   ],
   "source": [
    "# But ya can't do this\n",
    "int(\"1.6\")"
   ]
  },
  {
   "cell_type": "markdown",
   "metadata": {},
   "source": [
    "Let's pause and stare at this error as people can find python errors a bit intimidating. They can get long but best to read the traceback from the bottom up."
   ]
  },
  {
   "cell_type": "markdown",
   "metadata": {},
   "source": [
    "<div><iframe https://insights.stackoverflow.com/survey/2019#technology-_-most-loved-dreaded-and-wanted-languages></iframe></div>"
   ]
  },
  {
   "cell_type": "markdown",
   "metadata": {},
   "source": [
    "### 2.5 Strings\n",
    "\n",
    "Alrighty, finally we are now onto some more interesting stuff. Strings in python are sooo damn easy to use. **What. A. Joy.**"
   ]
  },
  {
   "cell_type": "code",
   "execution_count": 18,
   "metadata": {},
   "outputs": [
    {
     "data": {
      "text/plain": [
       "'This is a string. And this is how you combine strings...'"
      ]
     },
     "execution_count": 18,
     "metadata": {},
     "output_type": "execute_result"
    }
   ],
   "source": [
    "a = \"This is a string\"\n",
    "\n",
    "a + \". And this is how you combine strings...\""
   ]
  },
  {
   "cell_type": "code",
   "execution_count": 19,
   "metadata": {},
   "outputs": [
    {
     "data": {
      "text/plain": [
       "16"
      ]
     },
     "execution_count": 19,
     "metadata": {},
     "output_type": "execute_result"
    }
   ],
   "source": [
    "# Get the length of a string\n",
    "len(a)"
   ]
  },
  {
   "cell_type": "code",
   "execution_count": 21,
   "metadata": {},
   "outputs": [
    {
     "data": {
      "text/plain": [
       "False"
      ]
     },
     "execution_count": 21,
     "metadata": {},
     "output_type": "execute_result"
    }
   ],
   "source": [
    "# Check if a string contains something\n",
    "\"is\" in a"
   ]
  },
  {
   "cell_type": "code",
   "execution_count": 90,
   "metadata": {},
   "outputs": [
    {
     "data": {
      "text/plain": [
       "'This_is_a_string'"
      ]
     },
     "execution_count": 90,
     "metadata": {},
     "output_type": "execute_result"
    }
   ],
   "source": [
    "a.replace(\" \", \"_\")"
   ]
  },
  {
   "cell_type": "markdown",
   "metadata": {},
   "source": [
    "&nbsp;\n",
    "\n",
    "**Hold up. A lot to cover here...**\n",
    "\n",
    "* Our variable named `a` is a string.\n",
    "* Strings (like all our other things in the Python world) have a set of functions that can be called. `replace` is one of them. \n",
    "* functions are called by having brackets in front of them (sometimes empty sometimes not depending if they have inputs) `my_function()` or if they are part of an _object_ (like our string) then you have a fullstop then the function name (like in our case `<object>.<function>`).\n",
    "* A cool think you can do in jupyter lab is find out about the function by throwing a `?` before or after the function."
   ]
  },
  {
   "cell_type": "code",
   "execution_count": 91,
   "metadata": {},
   "outputs": [
    {
     "data": {
      "text/plain": [
       "\u001b[0;31mDocstring:\u001b[0m\n",
       "S.replace(old, new[, count]) -> str\n",
       "\n",
       "Return a copy of S with all occurrences of substring\n",
       "old replaced by new.  If the optional argument count is\n",
       "given, only the first count occurrences are replaced.\n",
       "\u001b[0;31mType:\u001b[0m      builtin_function_or_method\n"
      ]
     },
     "metadata": {},
     "output_type": "display_data"
    }
   ],
   "source": [
    "a.replace?"
   ]
  },
  {
   "cell_type": "code",
   "execution_count": 92,
   "metadata": {},
   "outputs": [
    {
     "data": {
      "text/plain": [
       "'This_is_a string'"
      ]
     },
     "execution_count": 92,
     "metadata": {},
     "output_type": "execute_result"
    }
   ],
   "source": [
    "# So it seems there is another variable we could have added here. Only replace the x first findings e.g.\n",
    "a.replace(\" \", \"_\", 2)"
   ]
  },
  {
   "cell_type": "code",
   "execution_count": 93,
   "metadata": {},
   "outputs": [
    {
     "name": "stdout",
     "output_type": "stream",
     "text": [
      "\n",
      "hey look,\n",
      "\n",
      "I am on multiple lines. That is cool.\n",
      "\n"
     ]
    }
   ],
   "source": [
    "# What about a multi-lined string\n",
    "b = \"\"\"\n",
    "hey look,\n",
    "\n",
    "I am on multiple lines. That is cool.\n",
    "\"\"\"\n",
    "print(b)"
   ]
  },
  {
   "cell_type": "markdown",
   "metadata": {},
   "source": [
    "Let's dive into some more string functions shall we:\n"
   ]
  },
  {
   "cell_type": "code",
   "execution_count": 22,
   "metadata": {},
   "outputs": [
    {
     "data": {
      "text/plain": [
       "['This', 'is', 'a', 'string']"
      ]
     },
     "execution_count": 22,
     "metadata": {},
     "output_type": "execute_result"
    }
   ],
   "source": [
    "a.split(\" \") # returns a list (will cover these later) seperating our original string a by spaces in this instance."
   ]
  },
  {
   "cell_type": "code",
   "execution_count": 34,
   "metadata": {},
   "outputs": [
    {
     "data": {
      "text/plain": [
       "'There is a lot of whitespace here.'"
      ]
     },
     "execution_count": 34,
     "metadata": {},
     "output_type": "execute_result"
    }
   ],
   "source": [
    "a = \"    There is a lot of whitespace here.       \"\n",
    "a.strip()"
   ]
  },
  {
   "cell_type": "code",
   "execution_count": 35,
   "metadata": {},
   "outputs": [
    {
     "name": "stdout",
     "output_type": "stream",
     "text": [
      "this is badly written\n",
      "THIS IS BADLY WRITTEN\n"
     ]
    }
   ],
   "source": [
    "a = \"This is BaDly WriTTEn\"\n",
    "print(a.lower())\n",
    "print(a.upper())"
   ]
  },
  {
   "cell_type": "code",
   "execution_count": 32,
   "metadata": {},
   "outputs": [
    {
     "data": {
      "text/plain": [
       "'this_is_better_data_practice'"
      ]
     },
     "execution_count": 32,
     "metadata": {},
     "output_type": "execute_result"
    }
   ],
   "source": [
    "# A nice trick is to \"chain\" this functions. Let's say we get given data in a CSV with column names like this:\n",
    "col1 = \" This iS TerribLE datA Practice  \"\n",
    "\n",
    "# We might want to do something like this to clean it:\n",
    "col1.strip().lower().replace(\" \", \"_\").replace(\"terrible\", \"better\")"
   ]
  },
  {
   "cell_type": "markdown",
   "metadata": {},
   "source": [
    "The above is equivalent to the following:\n",
    "```python\n",
    "col1 = col1.strip()\n",
    "col1 = col1.lower()\n",
    "col1 = col1.replace(\" \", \"_\")\n",
    "col1 = col1.replace(\"terrible\", \"better\")\n",
    "```\n",
    "\n",
    "So the functions are called left to right (when changed) just like your code runs top to bottom in the above."
   ]
  },
  {
   "cell_type": "markdown",
   "metadata": {},
   "source": [
    "Finally before we leave strings for now. Let's do some **f-strings** (only available for python 3.6 onwards so hopefully you are running that or above...). These are awesome."
   ]
  },
  {
   "cell_type": "code",
   "execution_count": 33,
   "metadata": {},
   "outputs": [
    {
     "name": "stdout",
     "output_type": "stream",
     "text": [
      "My favourite animal is a cat\n"
     ]
    }
   ],
   "source": [
    "animal = \"cat\"\n",
    "\n",
    "text = f\"My favourite animal is a {animal}\"\n",
    "print(text)"
   ]
  },
  {
   "cell_type": "code",
   "execution_count": 24,
   "metadata": {},
   "outputs": [
    {
     "name": "stdout",
     "output_type": "stream",
     "text": [
      "There are over 100 things going on in the system. This is less than previously expected.\n"
     ]
    }
   ],
   "source": [
    "number = 100\n",
    "expected = \"less\"\n",
    "text = f\"There are over {number} things going on in the system. This is {expected} than previously expected.\"\n",
    "print(text)"
   ]
  },
  {
   "cell_type": "markdown",
   "metadata": {},
   "source": [
    "So what's nice about f-strings is that it deals with type coversion for you - it didn't care you passed in a int or a string. Wonderful."
   ]
  },
  {
   "cell_type": "code",
   "execution_count": null,
   "metadata": {},
   "outputs": [],
   "source": []
  },
  {
   "cell_type": "code",
   "execution_count": null,
   "metadata": {},
   "outputs": [],
   "source": []
  },
  {
   "cell_type": "markdown",
   "metadata": {},
   "source": [
    "## 3 Lists\n",
    "\n",
    "Lists are a collections of things in an order - like arrays. Lists can have anything in them (doesn't have to be the same type).\n",
    "\n",
    ">**Note:** If you are an R user this is equivalent to R's \"vector\" but you can't give the list names. \n",
    "\n",
    "Let's declare a list. "
   ]
  },
  {
   "cell_type": "code",
   "execution_count": 6,
   "metadata": {},
   "outputs": [],
   "source": [
    "# Square brackets or list can define an empty dictionary\n",
    "my_list = []\n",
    "my_other_list = list()\n",
    "\n",
    "# Let's add something to our list\n",
    "my_list.append(\"hey\")"
   ]
  },
  {
   "cell_type": "markdown",
   "metadata": {},
   "source": [
    "**Few things...** Note that `my_list` didn't return anything. This is because the `\"hey\"` string has been added to our list you. You do not need to assign anything."
   ]
  },
  {
   "cell_type": "code",
   "execution_count": 8,
   "metadata": {},
   "outputs": [
    {
     "name": "stdout",
     "output_type": "stream",
     "text": [
      "['hey']\n"
     ]
    }
   ],
   "source": [
    "print(my_list)"
   ]
  },
  {
   "cell_type": "markdown",
   "metadata": {},
   "source": [
    "You can access different parts of the list by using an integer. **LISTS START AT 0 - Anyone who tells you otherwise is a liar...** "
   ]
  },
  {
   "cell_type": "code",
   "execution_count": 13,
   "metadata": {},
   "outputs": [
    {
     "data": {
      "text/plain": [
       "'cat'"
      ]
     },
     "execution_count": 13,
     "metadata": {},
     "output_type": "execute_result"
    }
   ],
   "source": [
    "# Next we declare a list with a few things in it\n",
    "my_list = [\"cat\", \"dog\", \"table\", \"mouse\"]\n",
    "my_list[0]"
   ]
  },
  {
   "cell_type": "code",
   "execution_count": 14,
   "metadata": {},
   "outputs": [
    {
     "name": "stdout",
     "output_type": "stream",
     "text": [
      "mouse\n",
      "mouse\n"
     ]
    }
   ],
   "source": [
    "# get the last element of your list\n",
    "print(my_list[3])\n",
    "print(my_list[-1]) # You can indeed use negatives"
   ]
  },
  {
   "cell_type": "code",
   "execution_count": 17,
   "metadata": {},
   "outputs": [
    {
     "data": {
      "text/plain": [
       "['dog', 'table']"
      ]
     },
     "execution_count": 17,
     "metadata": {},
     "output_type": "execute_result"
    }
   ],
   "source": [
    "# You can also provide a range of indexes\n",
    "my_list[1:3]"
   ]
  },
  {
   "cell_type": "markdown",
   "metadata": {},
   "source": [
    "More notes...\n",
    "\n",
    "* When you provide a range, a list is always returned (even if it is an empty list or element of length 1\n",
    "* Also note that `\"mouse\"` is the 3rd element of our list but when providing a range the never include the last element in the range in this case 1:3 gives you elements 1 and 2"
   ]
  },
  {
   "cell_type": "code",
   "execution_count": 23,
   "metadata": {},
   "outputs": [
    {
     "data": {
      "text/plain": [
       "['dog', 'table']"
      ]
     },
     "execution_count": 23,
     "metadata": {},
     "output_type": "execute_result"
    }
   ],
   "source": [
    "# Negative ranges\n",
    "my_list[1:-1]"
   ]
  },
  {
   "cell_type": "code",
   "execution_count": 25,
   "metadata": {},
   "outputs": [
    {
     "data": {
      "text/plain": [
       "['cat', 'dog']"
      ]
     },
     "execution_count": 25,
     "metadata": {},
     "output_type": "execute_result"
    }
   ],
   "source": [
    "# Missing start means go from beginning\n",
    "my_list[:2]"
   ]
  },
  {
   "cell_type": "code",
   "execution_count": 46,
   "metadata": {},
   "outputs": [
    {
     "data": {
      "text/plain": [
       "['table', 'mouse']"
      ]
     },
     "execution_count": 46,
     "metadata": {},
     "output_type": "execute_result"
    }
   ],
   "source": [
    "# Missing end means go from end\n",
    "my_list[2:]"
   ]
  },
  {
   "cell_type": "markdown",
   "metadata": {},
   "source": [
    "**Now for some (more) list operations...**"
   ]
  },
  {
   "cell_type": "code",
   "execution_count": 47,
   "metadata": {},
   "outputs": [
    {
     "data": {
      "text/plain": [
       "[1, 2, 'cat', 4]"
      ]
     },
     "execution_count": 47,
     "metadata": {},
     "output_type": "execute_result"
    }
   ],
   "source": [
    "# list additions\n",
    "[1, 2] + [\"cat\", 4]"
   ]
  },
  {
   "cell_type": "code",
   "execution_count": 49,
   "metadata": {},
   "outputs": [
    {
     "data": {
      "text/plain": [
       "4"
      ]
     },
     "execution_count": 49,
     "metadata": {},
     "output_type": "execute_result"
    }
   ],
   "source": [
    "# Get the length of the list\n",
    "len(my_list)"
   ]
  },
  {
   "cell_type": "code",
   "execution_count": 55,
   "metadata": {},
   "outputs": [],
   "source": [
    "# get the index of an element in your list\n",
    "i = my_list.index(\"dog\")"
   ]
  },
  {
   "cell_type": "code",
   "execution_count": 56,
   "metadata": {},
   "outputs": [
    {
     "name": "stdout",
     "output_type": "stream",
     "text": [
      "table\n",
      "['cat', 'dog']\n"
     ]
    }
   ],
   "source": [
    "# Remove the last element pop\n",
    "# two thing happen here - last element is removed from list and returned\n",
    "last_element = my_list.pop()\n",
    "print(last_element)\n",
    "print(my_list)"
   ]
  },
  {
   "cell_type": "code",
   "execution_count": 85,
   "metadata": {},
   "outputs": [
    {
     "data": {
      "text/plain": [
       "True"
      ]
     },
     "execution_count": 85,
     "metadata": {},
     "output_type": "execute_result"
    }
   ],
   "source": [
    "# Check if an element is in a list\n",
    "\"cat\" in my_list"
   ]
  },
  {
   "cell_type": "code",
   "execution_count": 58,
   "metadata": {},
   "outputs": [
    {
     "data": {
      "text/plain": [
       "['cat', 'dog', 'mouse', 'fish', 'mouse', 'fish']"
      ]
     },
     "execution_count": 58,
     "metadata": {},
     "output_type": "execute_result"
    }
   ],
   "source": [
    "# Add an list to the end of your list\n",
    "my_list.extend(['mouse', 'fish'])\n",
    "my_list"
   ]
  },
  {
   "cell_type": "code",
   "execution_count": 64,
   "metadata": {},
   "outputs": [
    {
     "data": {
      "text/plain": [
       "['cat', 'fish', 'cow', 'dog', 'mouse', 'mouse']"
      ]
     },
     "execution_count": 64,
     "metadata": {},
     "output_type": "execute_result"
    }
   ],
   "source": [
    "# Put something into an index of the array\n",
    "my_list.insert(1, \"fish\")\n",
    "my_list"
   ]
  },
  {
   "cell_type": "code",
   "execution_count": 86,
   "metadata": {},
   "outputs": [
    {
     "ename": "ValueError",
     "evalue": "list.remove(x): x not in list",
     "output_type": "error",
     "traceback": [
      "\u001b[0;31m---------------------------------------------------------------------------\u001b[0m",
      "\u001b[0;31mValueError\u001b[0m                                Traceback (most recent call last)",
      "\u001b[0;32m<ipython-input-86-f1a582648672>\u001b[0m in \u001b[0;36m<module>\u001b[0;34m\u001b[0m\n\u001b[1;32m      1\u001b[0m \u001b[0;31m# remove all elements that match\u001b[0m\u001b[0;34m\u001b[0m\u001b[0;34m\u001b[0m\u001b[0;34m\u001b[0m\u001b[0m\n\u001b[0;32m----> 2\u001b[0;31m \u001b[0mmy_list\u001b[0m\u001b[0;34m.\u001b[0m\u001b[0mremove\u001b[0m\u001b[0;34m(\u001b[0m\u001b[0;34m'fish'\u001b[0m\u001b[0;34m)\u001b[0m\u001b[0;34m\u001b[0m\u001b[0;34m\u001b[0m\u001b[0m\n\u001b[0m\u001b[1;32m      3\u001b[0m \u001b[0mmy_list\u001b[0m\u001b[0;34m\u001b[0m\u001b[0;34m\u001b[0m\u001b[0m\n",
      "\u001b[0;31mValueError\u001b[0m: list.remove(x): x not in list"
     ]
    }
   ],
   "source": [
    "# remove all elements that match\n",
    "my_list.remove('fish')\n",
    "my_list"
   ]
  },
  {
   "cell_type": "markdown",
   "metadata": {},
   "source": [
    "Before we move on there is something I haven't told you...\n",
    "\n",
    "Remember where we did len(string) and it gave us the length of the string but this function also gives you the length of a list.\n",
    "\n",
    "Well that's because **strings like lists are iterable**."
   ]
  },
  {
   "cell_type": "markdown",
   "metadata": {},
   "source": [
    "![image](http://giphygifs.s3.amazonaws.com/media/ToMjGpnXBTw7vnokxhu/giphy.gif)\n",
    "\n",
    "_(another great reason to use notebooks is that you can embed gifs)_"
   ]
  },
  {
   "cell_type": "markdown",
   "metadata": {},
   "source": [
    "### 3.1 Strings (again)\n",
    "\n",
    "Let's get into this madness."
   ]
  },
  {
   "cell_type": "code",
   "execution_count": 73,
   "metadata": {},
   "outputs": [
    {
     "data": {
      "text/plain": [
       "'H'"
      ]
     },
     "execution_count": 73,
     "metadata": {},
     "output_type": "execute_result"
    }
   ],
   "source": [
    "a = \"Here is a string\"\n",
    "\n",
    "# We can access elements by index\n",
    "a[0]"
   ]
  },
  {
   "cell_type": "code",
   "execution_count": 89,
   "metadata": {},
   "outputs": [
    {
     "data": {
      "text/plain": [
       "'Here'"
      ]
     },
     "execution_count": 89,
     "metadata": {},
     "output_type": "execute_result"
    }
   ],
   "source": [
    "# We splice like lists\n",
    "a[:4]"
   ]
  },
  {
   "cell_type": "code",
   "execution_count": 94,
   "metadata": {},
   "outputs": [
    {
     "data": {
      "text/plain": [
       "'Here is another string'"
      ]
     },
     "execution_count": 94,
     "metadata": {},
     "output_type": "execute_result"
    }
   ],
   "source": [
    "# Going back to our string addition you can see how it's the same as lists?\n",
    "a[:9] + \"nother\" + a[9:]"
   ]
  },
  {
   "cell_type": "code",
   "execution_count": 31,
   "metadata": {},
   "outputs": [
    {
     "ename": "AttributeError",
     "evalue": "'str' object has no attribute 'append'",
     "output_type": "error",
     "traceback": [
      "\u001b[0;31m---------------------------------------------------------------------------\u001b[0m",
      "\u001b[0;31mAttributeError\u001b[0m                            Traceback (most recent call last)",
      "\u001b[0;32m<ipython-input-31-88b480590ce2>\u001b[0m in \u001b[0;36m<module>\u001b[0;34m\u001b[0m\n\u001b[1;32m      1\u001b[0m \u001b[0;31m# But be careful though as they are not exactly like lists!\u001b[0m\u001b[0;34m\u001b[0m\u001b[0;34m\u001b[0m\u001b[0;34m\u001b[0m\u001b[0m\n\u001b[0;32m----> 2\u001b[0;31m \u001b[0ma\u001b[0m\u001b[0;34m.\u001b[0m\u001b[0mappend\u001b[0m\u001b[0;34m(\u001b[0m\u001b[0;34m\" and we've added more!\"\u001b[0m\u001b[0;34m)\u001b[0m\u001b[0;34m\u001b[0m\u001b[0;34m\u001b[0m\u001b[0m\n\u001b[0m",
      "\u001b[0;31mAttributeError\u001b[0m: 'str' object has no attribute 'append'"
     ]
    }
   ],
   "source": [
    "# But be careful though as they are not exactly like lists!\n",
    "a.append(\" and we've added more!\")"
   ]
  },
  {
   "cell_type": "code",
   "execution_count": null,
   "metadata": {},
   "outputs": [],
   "source": []
  },
  {
   "cell_type": "code",
   "execution_count": null,
   "metadata": {},
   "outputs": [],
   "source": []
  },
  {
   "cell_type": "markdown",
   "metadata": {},
   "source": [
    "# 4. For loops and if statements\n",
    "\n",
    "Now we've had our minds destroyed by this whole strings are interable stuff. This is a good segway to for loops. \n",
    "\n",
    "## 4.1 fOR loops\n",
    "Before we start though we need to deal with another amazing thing (that I once hated) about Python - code blocks and indentation. People who are familar with R and most other programming languages might be expecting something like this:\n",
    "\n",
    "```\n",
    "for (some iteration){\n",
    "   # Do stuff\n",
    "}\n",
    "```\n",
    "\n",
    "Where the things inside the curly brackets is a block of code that is called by the for loop. In Python we use indentation to define code blocks.\n",
    "\n",
    "```python\n",
    "for a in a_list:\n",
    "    # do stuff\n",
    "    # in this indented block\n",
    "```\n",
    "\n",
    "Everything that follows the line in a for statement will be called inside the for loop if it is indented. Let's jump right in with an example"
   ]
  },
  {
   "cell_type": "code",
   "execution_count": 26,
   "metadata": {},
   "outputs": [
    {
     "name": "stdout",
     "output_type": "stream",
     "text": [
      "cat\n",
      "dog\n",
      "table\n",
      "mouse\n"
     ]
    }
   ],
   "source": [
    "my_list = [\"cat\", \"dog\", \"table\", \"mouse\"]\n",
    "\n",
    "for x in my_list:\n",
    "    print(x)"
   ]
  },
  {
   "cell_type": "markdown",
   "metadata": {},
   "source": [
    "There we go easy... let's do another example. What are people's bets on what `new_list` will look like?"
   ]
  },
  {
   "cell_type": "code",
   "execution_count": 28,
   "metadata": {},
   "outputs": [
    {
     "name": "stdout",
     "output_type": "stream",
     "text": [
      "Adding cat to my new list\n",
      "Adding dog to my new list\n",
      "Adding table to my new list\n",
      "Adding mouse to my new list\n"
     ]
    }
   ],
   "source": [
    "new_list = []\n",
    "for x in my_list:\n",
    "    print(f\"Adding {x} to my new list\")\n",
    "new_list.append(x)"
   ]
  },
  {
   "cell_type": "markdown",
   "metadata": {},
   "source": [
    "`new_list` is not indented so the only chunk of code in the for loop is the `print` statement. Because the next line is at the same indent of the declaration of the for loop. It is called after the for loop. Once the for loop has finished the last value `x` took was the last element of `my_list`. Which is indeed, what we see."
   ]
  },
  {
   "cell_type": "code",
   "execution_count": 29,
   "metadata": {},
   "outputs": [
    {
     "data": {
      "text/plain": [
       "['mouse']"
      ]
     },
     "execution_count": 29,
     "metadata": {},
     "output_type": "execute_result"
    }
   ],
   "source": [
    "new_list"
   ]
  },
  {
   "cell_type": "markdown",
   "metadata": {},
   "source": [
    "There are some nice things you can do with for loops. The process you normally have is to create a for look that goes over some \"iterable\". Most often lists are used. But anything that is iterable can be put into a for loop."
   ]
  },
  {
   "cell_type": "code",
   "execution_count": 37,
   "metadata": {},
   "outputs": [
    {
     "data": {
      "text/plain": [
       "'ereht olleH'"
      ]
     },
     "execution_count": 37,
     "metadata": {},
     "output_type": "execute_result"
    }
   ],
   "source": [
    "my_string = \"Hello there\"\n",
    "my_reverse_list = []\n",
    "# Let's reverse a string in a really inefficient way\n",
    "for s in my_string:\n",
    "    my_reverse_list.insert(0, s)\n",
    "\n",
    "# This string function join allows you to merge an array into a string seperated by string. In this instance we choose nothing. But you could add anything\n",
    "\"\".join(my_reverse_list)"
   ]
  },
  {
   "cell_type": "markdown",
   "metadata": {},
   "source": [
    "Some useful iterables to know about...\n",
    "\n",
    "**Ranges**"
   ]
  },
  {
   "cell_type": "code",
   "execution_count": 48,
   "metadata": {},
   "outputs": [
    {
     "name": "stdout",
     "output_type": "stream",
     "text": [
      "=== Ex 1. ===\n",
      "0\n",
      "1\n",
      "2\n",
      "3\n",
      "4\n",
      "=== Ex 2. ===\n",
      "5\n",
      "6\n",
      "7\n",
      "8\n",
      "9\n",
      "=== Ex 3. ===\n",
      "4\n",
      "2\n",
      "0\n",
      "-2\n",
      "-4\n"
     ]
    }
   ],
   "source": [
    "print(\"=== Ex 1. ===\")\n",
    "for i in range(5):\n",
    "    print(i)\n",
    "print(\"=== Ex 2. ===\")\n",
    "for i in range(5,10):\n",
    "    print(i)\n",
    "print(\"=== Ex 3. ===\")\n",
    "for i in range(4, -6, -2):\n",
    "    print(i)"
   ]
  },
  {
   "cell_type": "markdown",
   "metadata": {},
   "source": [
    "**enumerate:** super useful tools. Gives you the index and the element in the iterable."
   ]
  },
  {
   "cell_type": "code",
   "execution_count": 50,
   "metadata": {},
   "outputs": [
    {
     "name": "stdout",
     "output_type": "stream",
     "text": [
      "0: cat\n",
      "1: dog\n",
      "2: table\n",
      "3: mouse\n"
     ]
    }
   ],
   "source": [
    "for index, value in enumerate(my_list):\n",
    "    print(f\"{index}: {value}\")"
   ]
  },
  {
   "cell_type": "markdown",
   "metadata": {},
   "source": [
    "**zip:** userful to iterate over two lists of the same length"
   ]
  },
  {
   "cell_type": "code",
   "execution_count": 52,
   "metadata": {},
   "outputs": [
    {
     "name": "stdout",
     "output_type": "stream",
     "text": [
      "a A\n",
      "b B\n",
      "c C\n"
     ]
    }
   ],
   "source": [
    "list1 = ['a', 'b', 'c']\n",
    "list2 = ['A', 'B', 'C']\n",
    "\n",
    "for l1, l2 in zip(list1, list2):\n",
    "    print(l1, l2)"
   ]
  },
  {
   "cell_type": "code",
   "execution_count": 53,
   "metadata": {},
   "outputs": [
    {
     "name": "stdout",
     "output_type": "stream",
     "text": [
      "a A\n",
      "b B\n",
      "c C\n"
     ]
    }
   ],
   "source": [
    "# You could also get the same results with\n",
    "for i in range(len(list1)):\n",
    "    print(list1[i], list2[i])"
   ]
  },
  {
   "cell_type": "markdown",
   "metadata": {},
   "source": [
    "## 4.2 If statements\n",
    "\n",
    "An if statement runs a test of some kind, if the test passes then run one code block if not run a different code block. Remember code blocks work on indentation."
   ]
  },
  {
   "cell_type": "code",
   "execution_count": 54,
   "metadata": {},
   "outputs": [
    {
     "name": "stdout",
     "output_type": "stream",
     "text": [
      "x is larger than 1\n"
     ]
    }
   ],
   "source": [
    "# Run a test\n",
    "x = 2\n",
    "if x > 1:\n",
    "    print(\"x is larger than 1\")\n",
    "else:\n",
    "    print(\"x is less than 1\")"
   ]
  },
  {
   "cell_type": "markdown",
   "metadata": {},
   "source": [
    "You can also use an elif statement here to add more options in your control statement. an if statement will always have the following order:\n",
    "```python\n",
    "if test:\n",
    "    # Do something if test is True\n",
    "elif another_test:\n",
    "    # Execute if another_test is True (elif is option)\n",
    "elif yet_another_test:\n",
    "    # Execute if yet_another_test is True. You can do as many elif statements as you like\n",
    "else:\n",
    "    # Execute this code block if none of the tests passed (hence why there is no condition after else).\n",
    "    # Good for cleaning up catching unexpected stuff. (also optional)\n",
    "```"
   ]
  },
  {
   "cell_type": "code",
   "execution_count": 55,
   "metadata": {},
   "outputs": [
    {
     "name": "stdout",
     "output_type": "stream",
     "text": [
      "x is larger than 1\n"
     ]
    }
   ],
   "source": [
    "# So we can improve our last if statement like\n",
    "if x > 1:\n",
    "    print(\"x is larger than 1\")\n",
    "elif x == 1:\n",
    "    print(\"x IS one\")\n",
    "else:\n",
    "    print(\"x is less than 1\")"
   ]
  },
  {
   "cell_type": "code",
   "execution_count": 56,
   "metadata": {},
   "outputs": [
    {
     "name": "stdout",
     "output_type": "stream",
     "text": [
      "x is bigger\n"
     ]
    }
   ],
   "source": [
    "# You can use if statement shorthand like this\n",
    "answer = \"x is bigger\" if x > 1 else \"x is not bigger\"\n",
    "print(answer)"
   ]
  },
  {
   "cell_type": "markdown",
   "metadata": {},
   "source": [
    "Let's do a slightly more interesting example using a for loop. We want to create a new list from our original list but only containing animals."
   ]
  },
  {
   "cell_type": "code",
   "execution_count": 60,
   "metadata": {},
   "outputs": [
    {
     "data": {
      "text/plain": [
       "['cat', 'dog', 'mouse']"
      ]
     },
     "execution_count": 60,
     "metadata": {},
     "output_type": "execute_result"
    }
   ],
   "source": [
    "# Declare a list of things that are not animals that we often find in our list and create a new empty list\n",
    "not_animal = [\"table\", \"bottle\", \"germany\"]\n",
    "my_animal_list = []\n",
    "\n",
    "# Iterate over my_list and add elements to my_animal_list excluding things we know are not animals\n",
    "for l in my_list:\n",
    "    if l not in not_animal:\n",
    "        my_animal_list.append(l)\n",
    "\n",
    "my_animal_list"
   ]
  },
  {
   "cell_type": "markdown",
   "metadata": {},
   "source": [
    "### 4.3 List comprehension\n",
    "\n",
    "This might be a mistake mentioning this but it is super powerful and I use it all the time. The above could have been done in one line of code using something called list comprehension.\n",
    "\n",
    "> I'm just going to write out the code and explain it. If you want to know more about it google it as there is some great stuff explaining it (this also goes for this entire introduction - as there are loads of intro material into python). "
   ]
  },
  {
   "cell_type": "code",
   "execution_count": null,
   "metadata": {},
   "outputs": [],
   "source": []
  },
  {
   "cell_type": "code",
   "execution_count": 61,
   "metadata": {},
   "outputs": [
    {
     "data": {
      "text/plain": [
       "['cat', 'dog', 'mouse']"
      ]
     },
     "execution_count": 61,
     "metadata": {},
     "output_type": "execute_result"
    }
   ],
   "source": [
    "[l for l in my_list if l not in not_animal]"
   ]
  },
  {
   "cell_type": "markdown",
   "metadata": {},
   "source": [
    "The above is not just simply for creating a new filtered list. You can alter the contents of the new list:"
   ]
  },
  {
   "cell_type": "code",
   "execution_count": 64,
   "metadata": {},
   "outputs": [
    {
     "data": {
      "text/plain": [
       "['CAT IS ANIMAL', 'DOG IS ANIMAL', 'MOUSE IS ANIMAL']"
      ]
     },
     "execution_count": 64,
     "metadata": {},
     "output_type": "execute_result"
    }
   ],
   "source": [
    "[l.upper() + \" IS ANIMAL\" for l in my_list if l not in not_animal]"
   ]
  },
  {
   "cell_type": "code",
   "execution_count": null,
   "metadata": {},
   "outputs": [],
   "source": []
  },
  {
   "cell_type": "code",
   "execution_count": null,
   "metadata": {},
   "outputs": [],
   "source": []
  },
  {
   "cell_type": "markdown",
   "metadata": {},
   "source": [
    "## 5 Dictionaries\n",
    "\n",
    "Now we are cooking. Welcome to the world of dictionaries. This is another data type but deserves its own section. Dictionaries does what it says on the tin. Using a dictionary analogy...\n",
    "\n",
    "The words (you lookup) in a dictionary are unique and each word in the dictionary will have some information related to that word. The lookup word and the information relating to the word is refered to as the `key` and `value`. \n",
    "\n",
    ">**Note:** If you are an R user this is equivalent to R's \"list\" but they are not true dictionaries because you can add the same key twice... so they are not the same (but similar in how you access key, value bindings). Definitely not bringing this up to make a slight dig at R.\n",
    "\n",
    "Anyway I digress, let's declare a dictionary"
   ]
  },
  {
   "cell_type": "code",
   "execution_count": 39,
   "metadata": {},
   "outputs": [],
   "source": [
    "# Curly brackets or dict can define an empty dictionary\n",
    "my_dict = {}\n",
    "my_other_dict = dict()\n",
    "\n",
    "# Let's add a key and value to the dict\n",
    "my_dict[\"key\"] = \"value\""
   ]
  },
  {
   "cell_type": "code",
   "execution_count": 41,
   "metadata": {},
   "outputs": [
    {
     "data": {
      "text/plain": [
       "'value'"
      ]
     },
     "execution_count": 41,
     "metadata": {},
     "output_type": "execute_result"
    }
   ],
   "source": [
    "# If we want to retrieve that key\n",
    "my_dict[\"key\"]"
   ]
  },
  {
   "cell_type": "code",
   "execution_count": 45,
   "metadata": {},
   "outputs": [
    {
     "name": "stdout",
     "output_type": "stream",
     "text": [
      "animal\n",
      "animal\n",
      "not animal\n"
     ]
    }
   ],
   "source": [
    "# You can generate a dictionary with pre-filled stuff like.\n",
    "my_dict = {\n",
    "    \"cat\": \"animal\",\n",
    "    \"dog\": \"animal\",\n",
    "    \"table\": \"not animal\"\n",
    "}"
   ]
  },
  {
   "cell_type": "markdown",
   "metadata": {},
   "source": [
    "**A few things to note on the above:**\n",
    "* The format of a key value binding is the `key`, followed by a semicolon, then the value. e.g. `\"key\": \"value\", \"key2\": \"value\"`\n",
    "* Key value bindings are seperated by commas"
   ]
  },
  {
   "cell_type": "code",
   "execution_count": 43,
   "metadata": {},
   "outputs": [],
   "source": [
    "# Python also lets you use numbers as a dictionary key\n",
    "# My advice would not be to do this though. As you can see the syntax is the same as an array - also JSON files only allow strings\n",
    "# as the key and it is often very useful to write out your dictionaries as a json file.\n",
    "my_dict[1] = \"something\""
   ]
  },
  {
   "cell_type": "code",
   "execution_count": 47,
   "metadata": {},
   "outputs": [
    {
     "data": {
      "text/plain": [
       "1"
      ]
     },
     "execution_count": 47,
     "metadata": {},
     "output_type": "execute_result"
    }
   ],
   "source": [
    "# You can set anything as the value\n",
    "my_dict[\"number\"] = 2336336\n",
    "\n",
    "# another dictionary\n",
    "my_dict[\"dict\"] = {\"k1\": 1, \"k2\": \"wow\"}\n",
    "my_dict[\"dict\"][\"k1\"]"
   ]
  },
  {
   "cell_type": "markdown",
   "metadata": {},
   "source": [
    "Before we move off dictionaries here are some useful tricks."
   ]
  },
  {
   "cell_type": "code",
   "execution_count": 1,
   "metadata": {},
   "outputs": [],
   "source": [
    "my_dict = {\n",
    "    \"cat\": \"animal\",\n",
    "    \"dog\": \"animal\",\n",
    "    \"table\": \"not animal\"\n",
    "}"
   ]
  },
  {
   "cell_type": "code",
   "execution_count": 58,
   "metadata": {},
   "outputs": [
    {
     "name": "stdout",
     "output_type": "stream",
     "text": [
      "True\n",
      "False\n"
     ]
    }
   ],
   "source": [
    "# Check if a key exists in a dictionary\n",
    "print(\"cat\" in my_dict)\n",
    "print(\"rabbit\" in my_dict)"
   ]
  },
  {
   "cell_type": "markdown",
   "metadata": {},
   "source": [
    "Get the keys of a dictionary"
   ]
  },
  {
   "cell_type": "code",
   "execution_count": 57,
   "metadata": {},
   "outputs": [
    {
     "data": {
      "text/plain": [
       "dict_keys(['cat', 'dog', 'table'])"
      ]
     },
     "execution_count": 57,
     "metadata": {},
     "output_type": "execute_result"
    }
   ],
   "source": [
    "my_dict.keys()"
   ]
  },
  {
   "cell_type": "code",
   "execution_count": 94,
   "metadata": {},
   "outputs": [
    {
     "data": {
      "text/plain": [
       "'animal'"
      ]
     },
     "execution_count": 94,
     "metadata": {},
     "output_type": "execute_result"
    }
   ],
   "source": [
    "# Get a value from a dictionary with a default value if the key doesn't exist\n",
    "my_dict.get(\"rabbit\", \"animal\")"
   ]
  },
  {
   "cell_type": "code",
   "execution_count": 96,
   "metadata": {},
   "outputs": [
    {
     "name": "stdout",
     "output_type": "stream",
     "text": [
      "The key is cat and the value is animal\n",
      "The key is dog and the value is animal\n",
      "The key is table and the value is not animal\n"
     ]
    }
   ],
   "source": [
    "# Iterate over the keys and corresponding values\n",
    "for k, v in my_dict.items():\n",
    "    print(f\"The key is {k} and the value is {v}\")"
   ]
  },
  {
   "cell_type": "code",
   "execution_count": 4,
   "metadata": {},
   "outputs": [
    {
     "name": "stdout",
     "output_type": "stream",
     "text": [
      "The key is cat and the value is animal\n",
      "The key is dog and the value is animal\n",
      "The key is table and the value is not animal\n"
     ]
    }
   ],
   "source": [
    "# you could also do the above this way\n",
    "for k in my_dict:\n",
    "    print(f\"The key is {k} and the value is {my_dict[k]}\")"
   ]
  },
  {
   "cell_type": "code",
   "execution_count": 21,
   "metadata": {},
   "outputs": [],
   "source": [
    "test_key = \"salmon\"\n",
    "\n",
    "if my_dict.get(test_key):\n",
    "    print(f\"The value is {my_dict[test_key]} key\")\n",
    "else:\n",
    "    print(f\"There is no {test_key} key\")"
   ]
  },
  {
   "cell_type": "markdown",
   "metadata": {},
   "source": [
    "Useful stuff:\n",
    "\n",
    "* [Pep-8 coding standards](https://www.python.org/dev/peps/pep-0008/)\n",
    "* [Markdown cheetsheet](https://github.com/adam-p/markdown-here/wiki/Markdown-Cheatsheet)"
   ]
  },
  {
   "cell_type": "code",
   "execution_count": null,
   "metadata": {},
   "outputs": [],
   "source": []
  }
 ],
 "metadata": {
  "kernelspec": {
   "display_name": "Python 3",
   "language": "python",
   "name": "python3"
  },
  "language_info": {
   "codemirror_mode": {
    "name": "ipython",
    "version": 3
   },
   "file_extension": ".py",
   "mimetype": "text/x-python",
   "name": "python",
   "nbconvert_exporter": "python",
   "pygments_lexer": "ipython3",
   "version": "3.6.7"
  }
 },
 "nbformat": 4,
 "nbformat_minor": 2
}
