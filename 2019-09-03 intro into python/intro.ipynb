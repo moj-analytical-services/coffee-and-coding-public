{
 "cells": [
  {
   "cell_type": "markdown",
   "metadata": {},
   "source": [
    "# Intro into Python\n",
    "\n",
    "This folder covers a basic introduction into python. Note that this is geared towards those who are using jupyter-lab on the Analytical Platform. So if you are not doing this on the platform then you might need to setup some things that are not set-up for yourself. (I'm using python 3.7)."
   ]
  },
  {
   "cell_type": "markdown",
   "metadata": {},
   "source": [
    "## Topics\n",
    "\n",
    "1. Juypter Lab\n",
    "2. Variables, Operators and Data types\n",
    "3. Dictionaries\n",
    "4. Lists\n",
    "5. Strings 2.0\n",
    "6. Functions\n",
    "7. Importing\n",
    "8. Reading and writing CSVs and JSONs\n",
    "\n",
    "# 1. Jupyter Lab\n",
    "\n",
    "> JupyterLab enables you to work with documents and activities such as Jupyter notebooks, text editors, terminals, and custom components in a flexible, integrated, and extensible manner.\n",
    "\n",
    "The above is a quote from the JupyterLab website. First I am going to just demo what you can do with jupyter. For those wanting a refresher on these basics or didn't attend the lunch and code then click [here](https://jupyterlab.readthedocs.io/en/stable/user/interface.html)\n",
    "\n",
    "## 1.1 Jupyter Lab Run Through\n",
    "\n",
    "_(These are my notes)_\n",
    "\n",
    "* Create file\n",
    "* Dual screen a markdown file\n",
    "* Create a notebook\n",
    "  * Whats a cell?\n",
    "  * Explain stuff left to right?\n",
    "  * Cell format _(markdown, code, raw)_\n",
    "  * What's a kernel (talk about restarting it!)"
   ]
  },
  {
   "cell_type": "markdown",
   "metadata": {},
   "source": [
    "## Question: When and why to use Python?\n",
    "\n",
    "Whenever, it's frickin' great and very versitle... see the latest stackoverflow survey"
   ]
  },
  {
   "cell_type": "code",
   "execution_count": null,
   "metadata": {},
   "outputs": [],
   "source": [
    "from IPython.display import Markdown, IFrame\n",
    "\n",
    "IFrame(\"https://insights.stackoverflow.com/survey/2019#technology-_-most-loved-dreaded-and-wanted-languages\", 1000, 600)"
   ]
  },
  {
   "cell_type": "code",
   "execution_count": null,
   "metadata": {},
   "outputs": [],
   "source": []
  },
  {
   "cell_type": "code",
   "execution_count": null,
   "metadata": {},
   "outputs": [],
   "source": []
  },
  {
   "cell_type": "markdown",
   "metadata": {},
   "source": [
    "## 2. Variables, Operators and Data Types\n",
    "\n",
    "Let's jump in to declaring/assigning some variables\n",
    "\n",
    "### 2.1 Assigning\n",
    "_(we use an equals sign (`=`) for assignment because why wouldn't you...)_\n"
   ]
  },
  {
   "cell_type": "code",
   "execution_count": null,
   "metadata": {},
   "outputs": [],
   "source": [
    "# We can write code comments like this (just add a # at the start). Newline comment just starts with a #.\n",
    "# Let's do some assigning\n",
    "a = 1\n",
    "print(a)"
   ]
  },
  {
   "cell_type": "code",
   "execution_count": null,
   "metadata": {},
   "outputs": [],
   "source": [
    "b = \"this is some text\" # Comments can also go after code \n",
    "b"
   ]
  },
  {
   "cell_type": "code",
   "execution_count": null,
   "metadata": {},
   "outputs": [],
   "source": [
    "\"If you don't assign something at the end of a cell it prints out at the bottom - it isn't assigned to anything...\""
   ]
  },
  {
   "cell_type": "markdown",
   "metadata": {},
   "source": [
    "### 2.2 Basic operators\n",
    "\n",
    "Things like addition, substraction, division, etc. All those things analysts love."
   ]
  },
  {
   "cell_type": "code",
   "execution_count": null,
   "metadata": {},
   "outputs": [],
   "source": [
    "a = a+1\n",
    "print(a)"
   ]
  },
  {
   "cell_type": "code",
   "execution_count": null,
   "metadata": {},
   "outputs": [],
   "source": [
    "# You could also do this - which is equivalent to the above\n",
    "a += 1\n",
    "print(a)"
   ]
  },
  {
   "cell_type": "code",
   "execution_count": null,
   "metadata": {},
   "outputs": [],
   "source": [
    "# Substractions (note that a is unchanged as we haven't assigned anything)\n",
    "a - 1"
   ]
  },
  {
   "cell_type": "code",
   "execution_count": null,
   "metadata": {},
   "outputs": [],
   "source": [
    "# Multiplication \n",
    "a*2"
   ]
  },
  {
   "cell_type": "code",
   "execution_count": null,
   "metadata": {},
   "outputs": [],
   "source": [
    "# Division\n",
    "a / 2"
   ]
  },
  {
   "cell_type": "code",
   "execution_count": null,
   "metadata": {},
   "outputs": [],
   "source": [
    "# Floor Division\n",
    "a // 2"
   ]
  },
  {
   "cell_type": "code",
   "execution_count": null,
   "metadata": {},
   "outputs": [],
   "source": [
    "# Powers\n",
    "a**2"
   ]
  },
  {
   "cell_type": "code",
   "execution_count": null,
   "metadata": {},
   "outputs": [],
   "source": [
    "# Mod\n",
    "a % 2"
   ]
  },
  {
   "cell_type": "markdown",
   "metadata": {},
   "source": [
    "### 2.3 Logical Operators\n",
    "\n",
    "First we should probably define a boolean. A boolean can only two states 1 or 0. To define something as a boolean rather than just an integer that is 1 or 0... "
   ]
  },
  {
   "cell_type": "code",
   "execution_count": null,
   "metadata": {},
   "outputs": [],
   "source": [
    "my_bool = True # case sensitive\n",
    "print(my_bool)"
   ]
  },
  {
   "cell_type": "code",
   "execution_count": null,
   "metadata": {},
   "outputs": [],
   "source": [
    "# Can also do\n",
    "my_bool = bool(1) # this coverts a boolean into an integer\n",
    "print(my_bool)"
   ]
  },
  {
   "cell_type": "code",
   "execution_count": null,
   "metadata": {},
   "outputs": [],
   "source": [
    "# Using a not\n",
    "print(not my_bool)\n",
    "print(not not my_bool)"
   ]
  },
  {
   "cell_type": "code",
   "execution_count": null,
   "metadata": {},
   "outputs": [],
   "source": [
    "# and / or\n",
    "t1 = True\n",
    "t2 = False\n",
    "print(t1 and t2)\n",
    "print(t1 or t2)"
   ]
  },
  {
   "cell_type": "code",
   "execution_count": null,
   "metadata": {},
   "outputs": [],
   "source": [
    "# can also do (but reads worse imo - just use the words)\n",
    "print(t1 & t2)\n",
    "print(t1 | t2)"
   ]
  },
  {
   "cell_type": "markdown",
   "metadata": {},
   "source": [
    "Let's now look at inequalities..."
   ]
  },
  {
   "cell_type": "code",
   "execution_count": null,
   "metadata": {},
   "outputs": [],
   "source": [
    "# Less than\n",
    "1 < 3"
   ]
  },
  {
   "cell_type": "code",
   "execution_count": null,
   "metadata": {},
   "outputs": [],
   "source": [
    "# Greater and equal to\n",
    "3 >= 3 "
   ]
  },
  {
   "cell_type": "code",
   "execution_count": null,
   "metadata": {},
   "outputs": [],
   "source": [
    "# Equal to\n",
    "3 == 3"
   ]
  },
  {
   "cell_type": "code",
   "execution_count": null,
   "metadata": {},
   "outputs": [],
   "source": [
    "# Not equal to\n",
    "3 != 3"
   ]
  },
  {
   "cell_type": "code",
   "execution_count": null,
   "metadata": {},
   "outputs": [],
   "source": [
    "# Can do put this together like...\n",
    "3 < 2 or 7 >= 6"
   ]
  },
  {
   "cell_type": "markdown",
   "metadata": {},
   "source": [
    "More coverage about this etc can be found here - https://data-flair.training/blogs/python-operator/"
   ]
  },
  {
   "cell_type": "markdown",
   "metadata": {},
   "source": [
    "### 2.4 Data Types\n",
    "\n",
    "(The basic ones at least)"
   ]
  },
  {
   "cell_type": "code",
   "execution_count": null,
   "metadata": {},
   "outputs": [],
   "source": [
    "# integers\n",
    "print(1, 2, -3) # oh yeah, use commas to print multiple things in line\n",
    "\n",
    "# float\n",
    "print(0.1, 1.2, -1.3)\n",
    "\n",
    "# strings\n",
    "# note how ''or \"\" don't matter both declare strings. Ideally always use \"\" as that is \n",
    "print('These', \"are some\", \"strings\") "
   ]
  },
  {
   "cell_type": "markdown",
   "metadata": {},
   "source": [
    "You can convert types (depending on the value) between one another. For example:"
   ]
  },
  {
   "cell_type": "code",
   "execution_count": null,
   "metadata": {},
   "outputs": [],
   "source": [
    "# You can do this\n",
    "int(1.6)"
   ]
  },
  {
   "cell_type": "code",
   "execution_count": null,
   "metadata": {},
   "outputs": [],
   "source": [
    "# You can do these\n",
    "print(float(\"1.6\"), float(1))"
   ]
  },
  {
   "cell_type": "code",
   "execution_count": null,
   "metadata": {},
   "outputs": [],
   "source": [
    "# and this\n",
    "str(1.6)"
   ]
  },
  {
   "cell_type": "code",
   "execution_count": null,
   "metadata": {},
   "outputs": [],
   "source": [
    "float(1)"
   ]
  },
  {
   "cell_type": "code",
   "execution_count": null,
   "metadata": {},
   "outputs": [],
   "source": [
    "# But ya can't do this\n",
    "int(\"1.6\")"
   ]
  },
  {
   "cell_type": "markdown",
   "metadata": {},
   "source": [
    "Let's pause and stare at this error as people can find python errors a bit intimidating. They can get long but best to read the traceback from the bottom up."
   ]
  },
  {
   "cell_type": "markdown",
   "metadata": {},
   "source": [
    "<div><iframe https://insights.stackoverflow.com/survey/2019#technology-_-most-loved-dreaded-and-wanted-languages></iframe></div>"
   ]
  },
  {
   "cell_type": "markdown",
   "metadata": {},
   "source": [
    "### 2.5 Strings\n",
    "\n",
    "Alrighty, finally we are now onto some more interesting stuff. Strings in python are sooo damn easy to use. **What. A. Joy.**"
   ]
  },
  {
   "cell_type": "code",
   "execution_count": null,
   "metadata": {},
   "outputs": [],
   "source": [
    "a = \"This is a string\"\n",
    "\n",
    "a + \". And this is how you combine strings...\""
   ]
  },
  {
   "cell_type": "code",
   "execution_count": null,
   "metadata": {},
   "outputs": [],
   "source": [
    "# Get the length of a string\n",
    "len(a)"
   ]
  },
  {
   "cell_type": "code",
   "execution_count": null,
   "metadata": {},
   "outputs": [],
   "source": [
    "# Check if a string contains something\n",
    "\"is\" in a"
   ]
  },
  {
   "cell_type": "code",
   "execution_count": null,
   "metadata": {},
   "outputs": [],
   "source": [
    "a.replace(\" \", \"_\")"
   ]
  },
  {
   "cell_type": "markdown",
   "metadata": {},
   "source": [
    "&nbsp;\n",
    "\n",
    "**Hold up. A lot to cover here...**\n",
    "\n",
    "* Our variable named `a` is a string.\n",
    "* Strings (like all our other things in the Python world) have a set of functions that can be called. `replace` is one of them. \n",
    "* functions are called by having brackets in front of them (sometimes empty sometimes not depending if they have inputs) `my_function()` or if they are part of an _object_ (like our string) then you have a fullstop then the function name (like in our case `<object>.<function>`).\n",
    "* A cool think you can do in jupyter lab is find out about the function by throwing a `?` before or after the function."
   ]
  },
  {
   "cell_type": "code",
   "execution_count": null,
   "metadata": {},
   "outputs": [],
   "source": [
    "a.replace?"
   ]
  },
  {
   "cell_type": "code",
   "execution_count": null,
   "metadata": {},
   "outputs": [],
   "source": [
    "# So it seems there is another variable we could have added here. Only replace the x first findings e.g.\n",
    "a.replace(\" \", \"_\", 2)"
   ]
  },
  {
   "cell_type": "code",
   "execution_count": null,
   "metadata": {},
   "outputs": [],
   "source": [
    "# What about a multi-lined string\n",
    "b = \"\"\"\n",
    "hey look,\n",
    "\n",
    "I am on multiple lines. That is cool.\n",
    "\"\"\"\n",
    "print(b)"
   ]
  },
  {
   "cell_type": "markdown",
   "metadata": {},
   "source": [
    "Let's dive into some more string functions shall we:\n"
   ]
  },
  {
   "cell_type": "code",
   "execution_count": null,
   "metadata": {},
   "outputs": [],
   "source": [
    "a.split(\" \") # returns a list (will cover these later) seperating our original string a by spaces in this instance."
   ]
  },
  {
   "cell_type": "code",
   "execution_count": null,
   "metadata": {},
   "outputs": [],
   "source": [
    "a = \"    There is a lot of whitespace here.       \"\n",
    "a.strip()"
   ]
  },
  {
   "cell_type": "code",
   "execution_count": null,
   "metadata": {},
   "outputs": [],
   "source": [
    "a = \"This is BaDly WriTTEn\"\n",
    "print(a.lower())\n",
    "print(a.upper())"
   ]
  },
  {
   "cell_type": "code",
   "execution_count": null,
   "metadata": {},
   "outputs": [],
   "source": [
    "# A nice trick is to \"chain\" this functions. Let's say we get given data in a CSV with column names like this:\n",
    "col1 = \" This iS TerribLE datA Practice  \"\n",
    "\n",
    "# We might want to do something like this to clean it:\n",
    "col1.strip().lower().replace(\" \", \"_\").replace(\"terrible\", \"better\")"
   ]
  },
  {
   "cell_type": "markdown",
   "metadata": {},
   "source": [
    "The above is equivalent to the following:\n",
    "```python\n",
    "col1 = col1.strip()\n",
    "col1 = col1.lower()\n",
    "col1 = col1.replace(\" \", \"_\")\n",
    "col1 = col1.replace(\"terrible\", \"better\")\n",
    "```\n",
    "\n",
    "So the functions are called left to right (when changed) just like your code runs top to bottom in the above."
   ]
  },
  {
   "cell_type": "markdown",
   "metadata": {},
   "source": [
    "Finally before we leave strings for now. Let's do some **f-strings** (only available for python 3.6 onwards so hopefully you are running that or above...). These are awesome."
   ]
  },
  {
   "cell_type": "code",
   "execution_count": null,
   "metadata": {},
   "outputs": [],
   "source": [
    "animal = \"cat\"\n",
    "\n",
    "text = f\"My favourite animal is a {animal}\"\n",
    "print(text)"
   ]
  },
  {
   "cell_type": "code",
   "execution_count": null,
   "metadata": {},
   "outputs": [],
   "source": [
    "number = 100\n",
    "expected = \"less\"\n",
    "text = f\"There are over {number} things going on in the system. This is {expected} than previously expected.\"\n",
    "print(text)"
   ]
  },
  {
   "cell_type": "markdown",
   "metadata": {},
   "source": [
    "So what's nice about f-strings is that it deals with type coversion for you - it didn't care you passed in a int or a string. Wonderful."
   ]
  },
  {
   "cell_type": "code",
   "execution_count": null,
   "metadata": {},
   "outputs": [],
   "source": []
  },
  {
   "cell_type": "code",
   "execution_count": null,
   "metadata": {},
   "outputs": [],
   "source": []
  },
  {
   "cell_type": "markdown",
   "metadata": {},
   "source": [
    "## 3 Lists\n",
    "\n",
    "Lists are a collections of things in an order - like arrays. Lists can have anything in them (doesn't have to be the same type).\n",
    "\n",
    ">**Note:** If you are an R user this is equivalent to R's \"vector\" but you can't give the list names. \n",
    "\n",
    "Let's declare a list. "
   ]
  },
  {
   "cell_type": "code",
   "execution_count": null,
   "metadata": {},
   "outputs": [],
   "source": [
    "# Square brackets or list can define an empty dictionary\n",
    "my_list = []\n",
    "my_other_list = list()\n",
    "\n",
    "# Let's add something to our list\n",
    "my_list.append(\"hey\")"
   ]
  },
  {
   "cell_type": "markdown",
   "metadata": {},
   "source": [
    "**Few things...** Note that `my_list` didn't return anything. This is because the `\"hey\"` string has been added to our list you. You do not need to assign anything."
   ]
  },
  {
   "cell_type": "code",
   "execution_count": null,
   "metadata": {},
   "outputs": [],
   "source": [
    "print(my_list)"
   ]
  },
  {
   "cell_type": "markdown",
   "metadata": {},
   "source": [
    "You can access different parts of the list by using an integer. **LISTS START AT 0 - Anyone who tells you otherwise is a liar...** "
   ]
  },
  {
   "cell_type": "code",
   "execution_count": null,
   "metadata": {},
   "outputs": [],
   "source": [
    "# Next we declare a list with a few things in it\n",
    "my_list = [\"cat\", \"dog\", \"table\", \"mouse\"]\n",
    "my_list[0]"
   ]
  },
  {
   "cell_type": "code",
   "execution_count": null,
   "metadata": {},
   "outputs": [],
   "source": [
    "# get the last element of your list\n",
    "print(my_list[3])\n",
    "print(my_list[-1]) # You can indeed use negatives"
   ]
  },
  {
   "cell_type": "code",
   "execution_count": null,
   "metadata": {},
   "outputs": [],
   "source": [
    "# You can also provide a range of indexes\n",
    "my_list[1:3]"
   ]
  },
  {
   "cell_type": "markdown",
   "metadata": {},
   "source": [
    "More notes...\n",
    "\n",
    "* When you provide a range, a list is always returned (even if it is an empty list or element of length 1\n",
    "* Also note that `\"mouse\"` is the 3rd element of our list but when providing a range the never include the last element in the range in this case 1:3 gives you elements 1 and 2"
   ]
  },
  {
   "cell_type": "code",
   "execution_count": null,
   "metadata": {},
   "outputs": [],
   "source": [
    "# Negative ranges\n",
    "my_list[1:-1]"
   ]
  },
  {
   "cell_type": "code",
   "execution_count": null,
   "metadata": {},
   "outputs": [],
   "source": [
    "# Missing start means go from beginning\n",
    "my_list[:2]"
   ]
  },
  {
   "cell_type": "code",
   "execution_count": null,
   "metadata": {},
   "outputs": [],
   "source": [
    "# Missing end means go from end\n",
    "my_list[2:]"
   ]
  },
  {
   "cell_type": "markdown",
   "metadata": {},
   "source": [
    "**Now for some (more) list operations...**"
   ]
  },
  {
   "cell_type": "code",
   "execution_count": null,
   "metadata": {},
   "outputs": [],
   "source": [
    "# list additions\n",
    "[1, 2] + [\"cat\", 4]"
   ]
  },
  {
   "cell_type": "code",
   "execution_count": null,
   "metadata": {},
   "outputs": [],
   "source": [
    "# Get the length of the list\n",
    "len(my_list)"
   ]
  },
  {
   "cell_type": "code",
   "execution_count": null,
   "metadata": {},
   "outputs": [],
   "source": [
    "# get the index of an element in your list\n",
    "i = my_list.index(\"dog\")"
   ]
  },
  {
   "cell_type": "code",
   "execution_count": null,
   "metadata": {},
   "outputs": [],
   "source": [
    "# Remove the last element pop\n",
    "# two thing happen here - last element is removed from list and returned\n",
    "last_element = my_list.pop()\n",
    "print(last_element)\n",
    "print(my_list)"
   ]
  },
  {
   "cell_type": "code",
   "execution_count": null,
   "metadata": {},
   "outputs": [],
   "source": [
    "# Check if an element is in a list\n",
    "\"cat\" in my_list"
   ]
  },
  {
   "cell_type": "code",
   "execution_count": null,
   "metadata": {},
   "outputs": [],
   "source": [
    "# Add an list to the end of your list\n",
    "my_list.extend(['mouse', 'fish'])\n",
    "my_list"
   ]
  },
  {
   "cell_type": "code",
   "execution_count": null,
   "metadata": {},
   "outputs": [],
   "source": [
    "# Put something into an index of the array\n",
    "my_list.insert(1, \"fish\")\n",
    "my_list"
   ]
  },
  {
   "cell_type": "code",
   "execution_count": null,
   "metadata": {},
   "outputs": [],
   "source": [
    "# remove all elements that match\n",
    "my_list.remove('fish')\n",
    "my_list"
   ]
  },
  {
   "cell_type": "markdown",
   "metadata": {},
   "source": [
    "Before we move on there is something I haven't told you...\n",
    "\n",
    "Remember where we did len(string) and it gave us the length of the string but this function also gives you the length of a list.\n",
    "\n",
    "Well that's because **strings like lists are iterable**."
   ]
  },
  {
   "cell_type": "markdown",
   "metadata": {},
   "source": [
    "![image](http://giphygifs.s3.amazonaws.com/media/ToMjGpnXBTw7vnokxhu/giphy.gif)\n",
    "\n",
    "_(another great reason to use notebooks is that you can embed gifs)_"
   ]
  },
  {
   "cell_type": "markdown",
   "metadata": {},
   "source": [
    "### 3.1 Strings (again)\n",
    "\n",
    "Let's get into this madness."
   ]
  },
  {
   "cell_type": "code",
   "execution_count": null,
   "metadata": {},
   "outputs": [],
   "source": [
    "a = \"Here is a string\"\n",
    "\n",
    "# We can access elements by index\n",
    "a[0]"
   ]
  },
  {
   "cell_type": "code",
   "execution_count": null,
   "metadata": {},
   "outputs": [],
   "source": [
    "# We splice like lists\n",
    "a[:4]"
   ]
  },
  {
   "cell_type": "code",
   "execution_count": null,
   "metadata": {},
   "outputs": [],
   "source": [
    "# Going back to our string addition you can see how it's the same as lists?\n",
    "a[:9] + \"nother\" + a[9:]"
   ]
  },
  {
   "cell_type": "code",
   "execution_count": null,
   "metadata": {},
   "outputs": [],
   "source": [
    "# But be careful though as they are not exactly like lists!\n",
    "a.append(\" and we've added more!\")"
   ]
  },
  {
   "cell_type": "code",
   "execution_count": null,
   "metadata": {},
   "outputs": [],
   "source": []
  },
  {
   "cell_type": "code",
   "execution_count": null,
   "metadata": {},
   "outputs": [],
   "source": []
  },
  {
   "cell_type": "markdown",
   "metadata": {},
   "source": [
    "# 4. For loops and if statements\n",
    "\n",
    "Now we've had our minds destroyed by this whole strings are interable stuff. This is a good segway to for loops. \n",
    "\n",
    "## 4.1 fOR loops\n",
    "Before we start though we need to deal with another amazing thing (that I once hated) about Python - code blocks and indentation. People who are familar with R and most other programming languages might be expecting something like this:\n",
    "\n",
    "```\n",
    "for (some iteration){\n",
    "   # Do stuff\n",
    "}\n",
    "```\n",
    "\n",
    "Where the things inside the curly brackets is a block of code that is called by the for loop. In Python we use indentation to define code blocks.\n",
    "\n",
    "```python\n",
    "for a in a_list:\n",
    "    # do stuff\n",
    "    # in this indented block\n",
    "```\n",
    "\n",
    "Everything that follows the line in a for statement will be called inside the for loop if it is indented. Let's jump right in with an example"
   ]
  },
  {
   "cell_type": "code",
   "execution_count": null,
   "metadata": {},
   "outputs": [],
   "source": [
    "my_list = [\"cat\", \"dog\", \"table\", \"mouse\"]\n",
    "\n",
    "for x in my_list:\n",
    "    print(x)"
   ]
  },
  {
   "cell_type": "markdown",
   "metadata": {},
   "source": [
    "There we go easy... let's do another example. What are people's bets on what `new_list` will look like?"
   ]
  },
  {
   "cell_type": "code",
   "execution_count": null,
   "metadata": {},
   "outputs": [],
   "source": [
    "new_list = []\n",
    "for x in my_list:\n",
    "    print(f\"Adding {x} to my new list\")\n",
    "new_list.append(x)"
   ]
  },
  {
   "cell_type": "markdown",
   "metadata": {},
   "source": [
    "`new_list` is not indented so the only chunk of code in the for loop is the `print` statement. Because the next line is at the same indent of the declaration of the for loop. It is called after the for loop. Once the for loop has finished the last value `x` took was the last element of `my_list`. Which is indeed, what we see."
   ]
  },
  {
   "cell_type": "code",
   "execution_count": null,
   "metadata": {},
   "outputs": [],
   "source": [
    "new_list"
   ]
  },
  {
   "cell_type": "markdown",
   "metadata": {},
   "source": [
    "There are some nice things you can do with for loops. The process you normally have is to create a for look that goes over some \"iterable\". Most often lists are used. But anything that is iterable can be put into a for loop."
   ]
  },
  {
   "cell_type": "code",
   "execution_count": null,
   "metadata": {},
   "outputs": [],
   "source": [
    "my_string = \"Hello there\"\n",
    "my_reverse_list = []\n",
    "# Let's reverse a string in a really inefficient way\n",
    "for s in my_string:\n",
    "    my_reverse_list.insert(0, s)\n",
    "\n",
    "# This string function join allows you to merge an array into a string seperated by string. In this instance we choose nothing. But you could add anything\n",
    "\"\".join(my_reverse_list)"
   ]
  },
  {
   "cell_type": "markdown",
   "metadata": {},
   "source": [
    "Some useful iterables to know about...\n",
    "\n",
    "**Ranges**"
   ]
  },
  {
   "cell_type": "code",
   "execution_count": null,
   "metadata": {},
   "outputs": [],
   "source": [
    "print(\"=== Ex 1. ===\")\n",
    "for i in range(5):\n",
    "    print(i)\n",
    "print(\"=== Ex 2. ===\")\n",
    "for i in range(5,10):\n",
    "    print(i)\n",
    "print(\"=== Ex 3. ===\")\n",
    "for i in range(4, -6, -2):\n",
    "    print(i)"
   ]
  },
  {
   "cell_type": "markdown",
   "metadata": {},
   "source": [
    "**enumerate:** super useful tools. Gives you the index and the element in the iterable."
   ]
  },
  {
   "cell_type": "code",
   "execution_count": null,
   "metadata": {},
   "outputs": [],
   "source": [
    "for index, value in enumerate(my_list):\n",
    "    print(f\"{index}: {value}\")"
   ]
  },
  {
   "cell_type": "markdown",
   "metadata": {},
   "source": [
    "**zip:** userful to iterate over two lists of the same length"
   ]
  },
  {
   "cell_type": "code",
   "execution_count": null,
   "metadata": {},
   "outputs": [],
   "source": [
    "list1 = ['a', 'b', 'c']\n",
    "list2 = ['A', 'B', 'C']\n",
    "\n",
    "for l1, l2 in zip(list1, list2):\n",
    "    print(l1, l2)"
   ]
  },
  {
   "cell_type": "code",
   "execution_count": null,
   "metadata": {},
   "outputs": [],
   "source": [
    "# You could also get the same results with\n",
    "for i in range(len(list1)):\n",
    "    print(list1[i], list2[i])"
   ]
  },
  {
   "cell_type": "markdown",
   "metadata": {},
   "source": [
    "## 4.2 If statements\n",
    "\n",
    "An if statement runs a test of some kind, if the test passes then run one code block if not run a different code block. Remember code blocks work on indentation."
   ]
  },
  {
   "cell_type": "code",
   "execution_count": null,
   "metadata": {},
   "outputs": [],
   "source": [
    "# Run a test\n",
    "x = 2\n",
    "if x > 1:\n",
    "    print(\"x is larger than 1\")\n",
    "else:\n",
    "    print(\"x is less than 1\")"
   ]
  },
  {
   "cell_type": "markdown",
   "metadata": {},
   "source": [
    "You can also use an elif statement here to add more options in your control statement. an if statement will always have the following order:\n",
    "```python\n",
    "if test:\n",
    "    # Do something if test is True\n",
    "elif another_test:\n",
    "    # Execute if another_test is True (elif is option)\n",
    "elif yet_another_test:\n",
    "    # Execute if yet_another_test is True. You can do as many elif statements as you like\n",
    "else:\n",
    "    # Execute this code block if none of the tests passed (hence why there is no condition after else).\n",
    "    # Good for cleaning up catching unexpected stuff. (also optional)\n",
    "```"
   ]
  },
  {
   "cell_type": "code",
   "execution_count": null,
   "metadata": {},
   "outputs": [],
   "source": [
    "# So we can improve our last if statement like\n",
    "if x > 1:\n",
    "    print(\"x is larger than 1\")\n",
    "elif x == 1:\n",
    "    print(\"x IS one\")\n",
    "else:\n",
    "    print(\"x is less than 1\")"
   ]
  },
  {
   "cell_type": "code",
   "execution_count": null,
   "metadata": {},
   "outputs": [],
   "source": [
    "# You can use if statement shorthand like this\n",
    "answer = \"x is bigger\" if x > 1 else \"x is not bigger\"\n",
    "print(answer)"
   ]
  },
  {
   "cell_type": "markdown",
   "metadata": {},
   "source": [
    "Let's do a slightly more interesting example using a for loop. We want to create a new list from our original list but only containing animals."
   ]
  },
  {
   "cell_type": "code",
   "execution_count": null,
   "metadata": {},
   "outputs": [],
   "source": [
    "# Declare a list of things that are not animals that we often find in our list and create a new empty list\n",
    "not_animal = [\"table\", \"bottle\", \"germany\"]\n",
    "my_animal_list = []\n",
    "\n",
    "# Iterate over my_list and add elements to my_animal_list excluding things we know are not animals\n",
    "for l in my_list:\n",
    "    if l not in not_animal:\n",
    "        my_animal_list.append(l)\n",
    "\n",
    "my_animal_list"
   ]
  },
  {
   "cell_type": "markdown",
   "metadata": {},
   "source": [
    "One final subtlty of if statements (well actually condition evaluation). Empty objects are evaluated as False. Here is what I mean:"
   ]
  },
  {
   "cell_type": "code",
   "execution_count": null,
   "metadata": {},
   "outputs": [],
   "source": [
    "# Things that evaluate to false\n",
    "if 0 or [] or {} or None or \"\":\n",
    "    print(\"evals to True\")\n",
    "else:\n",
    "    print(\"evals to False\")"
   ]
  },
  {
   "cell_type": "markdown",
   "metadata": {},
   "source": [
    "Just something to be aware of. Nones are Python's version of a Null."
   ]
  },
  {
   "cell_type": "markdown",
   "metadata": {},
   "source": [
    "### 4.3 List comprehension\n",
    "\n",
    "This might be a mistake mentioning this but it is super powerful and I use it all the time. The above could have been done in one line of code using something called list comprehension.\n",
    "\n",
    "> I'm just going to write out the code and explain it. If you want to know more about it google it as there is some great stuff explaining it (this also goes for this entire introduction - as there are loads of intro material into python). "
   ]
  },
  {
   "cell_type": "code",
   "execution_count": null,
   "metadata": {},
   "outputs": [],
   "source": [
    "[l for l in my_list if l not in not_animal]"
   ]
  },
  {
   "cell_type": "markdown",
   "metadata": {},
   "source": [
    "The above is not just simply for creating a new filtered list. You can alter the contents of the new list:"
   ]
  },
  {
   "cell_type": "code",
   "execution_count": null,
   "metadata": {},
   "outputs": [],
   "source": [
    "[l.upper() + \" IS ANIMAL\" for l in my_list if l not in not_animal]"
   ]
  },
  {
   "cell_type": "code",
   "execution_count": null,
   "metadata": {},
   "outputs": [],
   "source": []
  },
  {
   "cell_type": "code",
   "execution_count": null,
   "metadata": {},
   "outputs": [],
   "source": []
  },
  {
   "cell_type": "markdown",
   "metadata": {},
   "source": [
    "## 5 Dictionaries\n",
    "\n",
    "Now we are cooking. Welcome to the world of dictionaries. This is another data type but deserves its own section. Dictionaries does what it says on the tin. Using a dictionary analogy...\n",
    "\n",
    "The words (you lookup) in a dictionary are unique and each word in the dictionary will have some information related to that word. The lookup word and the information relating to the word is refered to as the `key` and `value`. \n",
    "\n",
    ">**Note:** If you are an R user this is equivalent to R's \"list\" but they are not true dictionaries because you can add the same key twice... so they are not the same (but similar in how you access key, value bindings). Definitely not bringing this up to make a slight dig at R.\n",
    "\n",
    "Anyway I digress, let's declare a dictionary"
   ]
  },
  {
   "cell_type": "code",
   "execution_count": null,
   "metadata": {},
   "outputs": [],
   "source": [
    "# Curly brackets or dict can define an empty dictionary\n",
    "my_dict = {}\n",
    "my_other_dict = dict()\n",
    "\n",
    "# Let's add a key and value to the dict\n",
    "my_dict[\"key\"] = \"value\""
   ]
  },
  {
   "cell_type": "code",
   "execution_count": null,
   "metadata": {},
   "outputs": [],
   "source": [
    "# If we want to retrieve that key\n",
    "my_dict[\"key\"]"
   ]
  },
  {
   "cell_type": "code",
   "execution_count": null,
   "metadata": {},
   "outputs": [],
   "source": [
    "# You can generate a dictionary with pre-filled stuff like.\n",
    "my_dict = {\n",
    "    \"cat\": \"animal\",\n",
    "    \"dog\": \"animal\",\n",
    "    \"table\": \"not animal\"\n",
    "}"
   ]
  },
  {
   "cell_type": "markdown",
   "metadata": {},
   "source": [
    "**A few things to note on the above:**\n",
    "* The format of a key value binding is the `key`, followed by a semicolon, then the value. e.g. `\"key\": \"value\", \"key2\": \"value\"`\n",
    "* Key value bindings are seperated by commas"
   ]
  },
  {
   "cell_type": "code",
   "execution_count": null,
   "metadata": {},
   "outputs": [],
   "source": [
    "# Python also lets you use numbers as a dictionary key\n",
    "# My advice would not be to do this though. As you can see the syntax is the same as an array - also JSON files only allow strings\n",
    "# as the key and it is often very useful to write out your dictionaries as a json file.\n",
    "my_dict[1] = \"something\""
   ]
  },
  {
   "cell_type": "code",
   "execution_count": null,
   "metadata": {},
   "outputs": [],
   "source": [
    "# You can set anything as the value\n",
    "my_dict[\"number\"] = 2336336\n",
    "\n",
    "# another dictionary\n",
    "my_dict[\"dict\"] = {\"k1\": 1, \"k2\": \"wow\"}\n",
    "my_dict[\"dict\"][\"k1\"]"
   ]
  },
  {
   "cell_type": "markdown",
   "metadata": {},
   "source": [
    "Before we move off dictionaries here are some useful tricks."
   ]
  },
  {
   "cell_type": "code",
   "execution_count": null,
   "metadata": {},
   "outputs": [],
   "source": [
    "my_dict = {\n",
    "    \"cat\": \"animal\",\n",
    "    \"dog\": \"animal\",\n",
    "    \"table\": \"not animal\"\n",
    "}"
   ]
  },
  {
   "cell_type": "code",
   "execution_count": null,
   "metadata": {},
   "outputs": [],
   "source": [
    "# Check if a key exists in a dictionary\n",
    "print(\"cat\" in my_dict)\n",
    "print(\"rabbit\" in my_dict)"
   ]
  },
  {
   "cell_type": "markdown",
   "metadata": {},
   "source": [
    "Get the keys of a dictionary"
   ]
  },
  {
   "cell_type": "code",
   "execution_count": null,
   "metadata": {},
   "outputs": [],
   "source": [
    "my_dict.keys()"
   ]
  },
  {
   "cell_type": "code",
   "execution_count": null,
   "metadata": {},
   "outputs": [],
   "source": [
    "# Get a value from a dictionary with a default value if the key doesn't exist\n",
    "my_dict.get(\"rabbit\", \"animal\")"
   ]
  },
  {
   "cell_type": "code",
   "execution_count": null,
   "metadata": {},
   "outputs": [],
   "source": [
    "test_key = \"salmon\"\n",
    "\n",
    "if my_dict.get(test_key):\n",
    "    print(f\"The value is {my_dict[test_key]} key\")\n",
    "else:\n",
    "    print(f\"There is no {test_key} key\")"
   ]
  },
  {
   "cell_type": "code",
   "execution_count": null,
   "metadata": {},
   "outputs": [],
   "source": [
    "# Iterate over the keys and corresponding values\n",
    "for k, v in my_dict.items():\n",
    "    print(f\"The key is {k} and the value is {v}\")"
   ]
  },
  {
   "cell_type": "code",
   "execution_count": null,
   "metadata": {},
   "outputs": [],
   "source": [
    "# you could also do the above this way\n",
    "for k in my_dict:\n",
    "    print(f\"The key is {k} and the value is {my_dict[k]}\")"
   ]
  },
  {
   "cell_type": "code",
   "execution_count": null,
   "metadata": {},
   "outputs": [],
   "source": []
  },
  {
   "cell_type": "code",
   "execution_count": null,
   "metadata": {},
   "outputs": [],
   "source": []
  },
  {
   "cell_type": "markdown",
   "metadata": {},
   "source": [
    "# 6 Functions\n",
    "\n",
    "## 6.1 Defining functions\n",
    "Welcome to the big leagues. Alright functions - a piece of code that you might want to run multiple times maybe with different inputs. Let's define a function.\n"
   ]
  },
  {
   "cell_type": "code",
   "execution_count": null,
   "metadata": {},
   "outputs": [],
   "source": [
    "def my_function():\n",
    "    print(\"hello world\")\n",
    "    \n",
    "my_function()"
   ]
  },
  {
   "cell_type": "markdown",
   "metadata": {},
   "source": [
    "Let's give out function an input"
   ]
  },
  {
   "cell_type": "code",
   "execution_count": null,
   "metadata": {},
   "outputs": [],
   "source": [
    "def my_function(thing):\n",
    "    print(f\"hello {thing}\")\n",
    "    \n",
    "my_function(\"dog\")"
   ]
  },
  {
   "cell_type": "markdown",
   "metadata": {},
   "source": [
    "You can set default input paramters to your functions"
   ]
  },
  {
   "cell_type": "code",
   "execution_count": null,
   "metadata": {},
   "outputs": [],
   "source": [
    "def my_function(thing=\"cat\"):\n",
    "    print(f\"hello {thing}\")\n",
    "    \n",
    "my_function()\n",
    "my_function(\"dog\")"
   ]
  },
  {
   "cell_type": "markdown",
   "metadata": {},
   "source": [
    "An example of positional vs keyword arguments and some other weird stuff..."
   ]
  },
  {
   "cell_type": "code",
   "execution_count": null,
   "metadata": {},
   "outputs": [],
   "source": [
    "def fun(p, k=\"cat\"):\n",
    "    out = f\"\"\"\n",
    "    positional arg: {p}\n",
    "    key word arg: {k}\n",
    "    \"\"\"\n",
    "    print(out)\n",
    "    \n",
    "fun(\"arg1\", \"arg2\") # fine"
   ]
  },
  {
   "cell_type": "markdown",
   "metadata": {},
   "source": [
    "Things you cannot do in the above:\n",
    "- Put a keyword arg before a positional when defining a function\n",
    "- Pass a keyword arg first then a positional arg when calling a function"
   ]
  },
  {
   "cell_type": "code",
   "execution_count": null,
   "metadata": {},
   "outputs": [],
   "source": []
  },
  {
   "cell_type": "markdown",
   "metadata": {},
   "source": [
    "Let's briefly talk about scope this is essentially where python tries to look for things. Let's have a look at the below:"
   ]
  },
  {
   "cell_type": "code",
   "execution_count": null,
   "metadata": {},
   "outputs": [],
   "source": [
    "other_thing = \"robot\"\n",
    "\n",
    "def my_function(thing=\"cat\"):\n",
    "    other_thing = \"dog\"\n",
    "    print(f\"hello {thing} and {other_thing}\")\n",
    "    \n",
    "my_function()\n",
    "print(other_thing)"
   ]
  },
  {
   "cell_type": "markdown",
   "metadata": {},
   "source": [
    "People who are familiar with scope will know the above well as it is a common thing with most programming languages. What is happening here is that within the \"scope\" of my function we define a variable called `other_thing`. So when the function is called it will use that definition of `other_thing`. The final line prints out the `other_thing` variable but it returns how we defined it at the top of the script. This is because the last line of the script and the top line of the script are in the same scope.\n",
    "\n",
    "If we were to remove the `other_thing` variable from the function. The function would still run but calling `other_thing` in the above scope. When a variable is referenced in a function, the function will look for it being declared in it's own scope first and if it does not exist then it will look for it in the next parent (above) scope - this is dangerous though if that variable changes... "
   ]
  },
  {
   "cell_type": "markdown",
   "metadata": {},
   "source": [
    "Anyway... it's been pretty uninspiring stuff but hopefully you are getting the hang of this code block stuff and they syntax that goes with it (that colon). Let's do something more interesting. Let's create a function that takes a list and returns a new list based on a dictionary."
   ]
  },
  {
   "cell_type": "code",
   "execution_count": null,
   "metadata": {},
   "outputs": [],
   "source": [
    "def my_more_interesting_function(inlist):\n",
    "    \"\"\"\n",
    "    This is a doc string, it always goes at the start of your function.\n",
    "    It will come up when you ? this function.\n",
    "    It is good practice to document your functions.\n",
    "    \"\"\"\n",
    "    \n",
    "    lookup = {\n",
    "        \"cat\": \"Meow\",\n",
    "        \"dog\": \"Whoof\",\n",
    "        \"mongoose\": \"...\"\n",
    "    }\n",
    "    \n",
    "    outlist = []\n",
    "    for i in inlist:\n",
    "        x = lookup.get(i, \"animal not in lookup\")\n",
    "        outlist.append(x)\n",
    "        \n",
    "    return outlist"
   ]
  },
  {
   "cell_type": "code",
   "execution_count": null,
   "metadata": {},
   "outputs": [],
   "source": [
    "?my_more_interesting_function"
   ]
  },
  {
   "cell_type": "code",
   "execution_count": null,
   "metadata": {},
   "outputs": [],
   "source": [
    "out = my_more_interesting_function([\"cat\", \"mouse\"])\n",
    "out"
   ]
  },
  {
   "cell_type": "markdown",
   "metadata": {},
   "source": [
    "## 6.2 Importing Functions\n",
    "\n",
    "Alright now we are getting into imports. This is how you get other code, packages, functions, variables, etc into your script or code. We've written a function in the script very cleverly named `function.py`. To get this function:"
   ]
  },
  {
   "cell_type": "code",
   "execution_count": null,
   "metadata": {},
   "outputs": [],
   "source": [
    "import functions\n",
    "\n",
    "functions.my_function()\n",
    "functions.my_function(\"dog\")\n",
    "\n",
    "functions.a_variable"
   ]
  },
  {
   "cell_type": "code",
   "execution_count": null,
   "metadata": {},
   "outputs": [],
   "source": [
    "# If we want we could reference our functions script (referred to as a module) with a different name\n",
    "import functions as f\n",
    "f.my_function()"
   ]
  },
  {
   "cell_type": "code",
   "execution_count": null,
   "metadata": {},
   "outputs": [],
   "source": [
    "# We might want to just import everything from the script\n",
    "from functions import *\n",
    "\n",
    "my_function()\n",
    "a_variable"
   ]
  },
  {
   "cell_type": "markdown",
   "metadata": {},
   "source": [
    "Good practive is not to do the above - instead it's good to only import what you need (you can rename anything you import (not just modules) this is useful if you are importing two functions of the same name for example. Importing only the things you use will make it easier for others to read your code."
   ]
  },
  {
   "cell_type": "code",
   "execution_count": null,
   "metadata": {},
   "outputs": [],
   "source": [
    "from functions import my_function, a_variable as a\n",
    "\n",
    "my_function()\n",
    "a"
   ]
  },
  {
   "cell_type": "markdown",
   "metadata": {},
   "source": [
    "## 6.3 Install packages\n",
    "\n",
    "I guess we should talk about this now. So best way to install python packages to do that in terminal\n",
    " - Click the + symbol and select terminal\n",
    " \n",
    "When you are looking at packages they normally tell you how to install but the best options are to look for a `conda` distribution then `pip`. Using `pip` you can install directly from github. \n",
    "\n",
    "Let's look at this awesome data linting package named [data_linter](https://github.com/moj-analytical-services/data_linter).\n",
    "\n",
    "> This is actually not the best example as we publish a lot of packages... so the correct way to install this is via `pip install data_linter` but let's say that we are running some experimental version on github and you want that version.\n",
    "\n",
    "To install this package via github we are going to run some code via terminal. But as this is jupyter/python tutorial let's run our terminal code (aka bask) in this jupyter notebook in the cell below. Starting a line with `!` means run a shell command."
   ]
  },
  {
   "cell_type": "code",
   "execution_count": null,
   "metadata": {},
   "outputs": [],
   "source": [
    "!pip install git+git://github.com/moj-analytical-services/data_linter.git"
   ]
  },
  {
   "cell_type": "code",
   "execution_count": null,
   "metadata": {},
   "outputs": [],
   "source": []
  },
  {
   "cell_type": "code",
   "execution_count": null,
   "metadata": {},
   "outputs": [],
   "source": []
  },
  {
   "cell_type": "markdown",
   "metadata": {},
   "source": [
    "**REMEMBER: Always restart your kernel once you've made changes to any modules you import or installing packages for those changes to take affect**"
   ]
  },
  {
   "cell_type": "markdown",
   "metadata": {},
   "source": [
    "# 7. Reading and writing\n",
    "\n",
    "Most cases you are likely to be reading data with packages like `pandas` we are not doing pandas today as that deserves it's own coffee and coding session. However, it might be useful to show you how to read and write stuff like CSVs, jsons or just text files (using base python as that's what today is all about).\n",
    "\n",
    "## 7.1 Text files\n",
    "\n",
    "CSVs, JSONs, blah blah blah, in the end they are all just text files with a prescribed format. So let's start with writing to a text file."
   ]
  },
  {
   "cell_type": "code",
   "execution_count": null,
   "metadata": {},
   "outputs": [],
   "source": [
    "with open('my_file.txt', mode=\"w\") as f:\n",
    "    f.write(\"Hello there\\n\") # \\n is a newline character\n",
    "    f.write(\"This is a text file.\")"
   ]
  },
  {
   "cell_type": "code",
   "execution_count": null,
   "metadata": {},
   "outputs": [],
   "source": [
    "# Let's open it up and read it into an array of text (1 row per line)\n",
    "# Note specifying a mode defaults to mode=\"r\" for read\n",
    "with open('my_file.txt') as f:\n",
    "    my_text_lines = f.readlines()\n",
    "    \n",
    "my_text_lines"
   ]
  },
  {
   "cell_type": "markdown",
   "metadata": {},
   "source": [
    "## 7.2 CSVs\n",
    "\n",
    "I mean you would just use pandas. The only time you might want to read in a CSV using base python is that if you wanted to read in a few lines at a time (instead of everything into memory) and run some more specific tests on the data to see if the CSV is corrupted or note. Anyway not going to write it out here because I'd just copy and paste this [example](https://pythonprogramming.net/reading-csv-files-python-3/)\n",
    "\n",
    "## 7.3 JSONs\n",
    "\n",
    "JSONs (JavaScript Object Notation) is a lightweight data-interchange format [source](https://www.json.org/). To put it simply they are basically dictionaries but you should get used to them as they are super useful and used a LOT.\n",
    "\n",
    "So let's do this."
   ]
  },
  {
   "cell_type": "code",
   "execution_count": null,
   "metadata": {},
   "outputs": [],
   "source": [
    "import json\n",
    "\n",
    "a_dictionary = {\n",
    "    \"animals\": [\"cat\", \"dog\"],\n",
    "    \"stuff\": {\n",
    "        \"table\": {\n",
    "            \"legs\": 4,\n",
    "            \"size\": \"big\"\n",
    "        },\n",
    "        \"cup\": {\n",
    "            \"legs\": 0,\n",
    "            \"size\": \"small\"\n",
    "        }\n",
    "    }\n",
    "}\n",
    "with open(\"my_file.json\", \"w\") as f:\n",
    "    json.dump(a_dictionary, f)\n"
   ]
  },
  {
   "cell_type": "code",
   "execution_count": null,
   "metadata": {},
   "outputs": [],
   "source": [
    "# To make a neater looking json \n",
    "with open(\"my_file.json\", \"w\") as f:\n",
    "    json.dump(a_dictionary, f, indent=4, separators=(\",\", \": \"))"
   ]
  },
  {
   "cell_type": "code",
   "execution_count": null,
   "metadata": {},
   "outputs": [],
   "source": [
    "# To read in a json\n",
    "with open(\"my_file.json\") as f:\n",
    "    d = json.load(f)\n",
    "d"
   ]
  },
  {
   "cell_type": "markdown",
   "metadata": {},
   "source": [
    "# 8. Putting it all together\n",
    "\n",
    "Final bit where we can do something fun and put a load of what we learnt together. We are going to create a function that does the following:\n",
    "1. Takes two postcodes\n",
    "2. Checks if it is valid (fails if not)\n",
    "3. Returns the distance between the two postcodes\n",
    "\n",
    "## 8.1 Getting and checking the postcodes\n",
    "\n",
    "We are going to use an API called (postcodes.io)[https://postcodes.io/] which is great. This will be used to get the lat/long of our postcodes as well as validate them. We need to send http requests to this web-api. Python has a way of doing this using modules in base Python (obv tho)."
   ]
  },
  {
   "cell_type": "code",
   "execution_count": null,
   "metadata": {},
   "outputs": [],
   "source": [
    "import urllib.request\n",
    "\n",
    "# Lets use 10SC postcode\n",
    "req = urllib.request.Request(f\"https://api.postcodes.io/postcodes/E144QQ/validate\")\n",
    "with urllib.request.urlopen(req) as response:\n",
    "    result = response.read()\n",
    "result"
   ]
  },
  {
   "cell_type": "markdown",
   "metadata": {},
   "source": [
    "OK well our result looks like a json file (just as a string). We probably want to open that as a json and we don't always want to test 10SC so we want to pass a variable into that."
   ]
  },
  {
   "cell_type": "code",
   "execution_count": null,
   "metadata": {},
   "outputs": [],
   "source": [
    "import urllib.request\n",
    "import json\n",
    "\n",
    "postcode = \"E144QQ\" # If we wanted ot be really clever we could do some string manipulation to homogenise it\n",
    "\n",
    "req = urllib.request.Request(f\"https://api.postcodes.io/postcodes/{postcode}/validate\")\n",
    "with urllib.request.urlopen(req) as response:\n",
    "    result = json.loads(response.read())\n",
    "\n",
    "# Our result is now a dictionary - so can treat it like one. Lovely\n",
    "result['result']"
   ]
  },
  {
   "cell_type": "markdown",
   "metadata": {},
   "source": [
    "Now we want to get the actual postcode data. All we need to here is change the URL in our script above"
   ]
  },
  {
   "cell_type": "code",
   "execution_count": null,
   "metadata": {},
   "outputs": [],
   "source": [
    "import urllib.request\n",
    "import json\n",
    "\n",
    "postcode = \"E144QQ\" # If we wanted ot be really clever we could do some string manipulation to homogenise it\n",
    "\n",
    "req = urllib.request.Request(f\"https://api.postcodes.io/postcodes/{postcode}\")\n",
    "with urllib.request.urlopen(req) as response:\n",
    "    result = json.loads(response.read())\n",
    "\n",
    "# Our result is now a dictionary - so can treat it like one. Lovely\n",
    "result['result']"
   ]
  },
  {
   "cell_type": "markdown",
   "metadata": {},
   "source": [
    "Cool so we have already done step 2 we just need to do step 3... 1 quick Google later led me to this [code](https://stackoverflow.com/a/19412565). Let's steal it and name it after myself for 100% credit."
   ]
  },
  {
   "cell_type": "code",
   "execution_count": null,
   "metadata": {},
   "outputs": [],
   "source": [
    "from math import sin, cos, sqrt, atan2, radians\n",
    "\n",
    "def kariks_function(lat1, lon1, lat2, lon2):\n",
    "    # approximate radius of earth in km\n",
    "    R = 6373.0\n",
    "\n",
    "    lat1 = radians(lat1)\n",
    "    lon1 = radians(lon1)\n",
    "    lat2 = radians(lat2)\n",
    "    lon2 = radians(lon2)\n",
    "\n",
    "    dlon = lon2 - lon1\n",
    "    dlat = lat2 - lat1\n",
    "\n",
    "    a = sin(dlat / 2)**2 + cos(lat1) * cos(lat2) * sin(dlon / 2)**2\n",
    "    c = 2 * atan2(sqrt(a), sqrt(1 - a))\n",
    "\n",
    "    return R * c"
   ]
  },
  {
   "cell_type": "markdown",
   "metadata": {},
   "source": [
    "Fantastic - we just need to put it all together which I have done so in the distance.py script. Let's run it."
   ]
  },
  {
   "cell_type": "code",
   "execution_count": null,
   "metadata": {},
   "outputs": [],
   "source": [
    "from distance import postcode_dist\n",
    "\n",
    "postcode_dist(\"E14 4QQ\", \"SW1H 9AJ\")"
   ]
  },
  {
   "cell_type": "markdown",
   "metadata": {},
   "source": [
    "# Useful stuff:\n",
    "\n",
    "* [Jupyter Interface Introduction](https://jupyterlab.readthedocs.io/en/stable/user/interface.html)\n",
    "* [Link to python training material](https://docs.google.com/document/d/1aAeiiXhrAVZPVrbKK3k6ELxbZyeKuTHnr2-pCIyAtfQ/edit?usp=sharing)\n",
    "* [A good side by side comparison of R and Python - good for translating](https://www.anotherbookondatascience.com/)\n",
    "* [Pep-8 coding standards](https://www.python.org/dev/peps/pep-0008/)\n",
    "* [Markdown cheetsheet](https://github.com/adam-p/markdown-here/wiki/Markdown-Cheatsheet)\n",
    "* [A definitive guide python imports](https://chrisyeh96.github.io/2017/08/08/definitive-guide-python-imports.html)"
   ]
  },
  {
   "cell_type": "code",
   "execution_count": null,
   "metadata": {},
   "outputs": [],
   "source": []
  }
 ],
 "metadata": {
  "kernelspec": {
   "display_name": "Python 3",
   "language": "python",
   "name": "python3"
  },
  "language_info": {
   "codemirror_mode": {
    "name": "ipython",
    "version": 3
   },
   "file_extension": ".py",
   "mimetype": "text/x-python",
   "name": "python",
   "nbconvert_exporter": "python",
   "pygments_lexer": "ipython3",
   "version": "3.6.7"
  }
 },
 "nbformat": 4,
 "nbformat_minor": 2
}
